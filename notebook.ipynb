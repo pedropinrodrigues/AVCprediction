{
 "cells": [
  {
   "cell_type": "markdown",
   "id": "ce01a1e0",
   "metadata": {},
   "source": [
    "# Predição de AVC"
   ]
  },
  {
   "cell_type": "code",
   "execution_count": 729,
   "id": "0688a8f3",
   "metadata": {},
   "outputs": [],
   "source": [
    "import pandas as pd\n",
    "import matplotlib.pyplot as plt"
   ]
  },
  {
   "cell_type": "markdown",
   "id": "d838f23a",
   "metadata": {},
   "source": [
    "## Análise Exploratória"
   ]
  },
  {
   "cell_type": "code",
   "execution_count": 730,
   "id": "1b34d928",
   "metadata": {},
   "outputs": [
    {
     "data": {
      "text/html": [
       "<div>\n",
       "<style scoped>\n",
       "    .dataframe tbody tr th:only-of-type {\n",
       "        vertical-align: middle;\n",
       "    }\n",
       "\n",
       "    .dataframe tbody tr th {\n",
       "        vertical-align: top;\n",
       "    }\n",
       "\n",
       "    .dataframe thead th {\n",
       "        text-align: right;\n",
       "    }\n",
       "</style>\n",
       "<table border=\"1\" class=\"dataframe\">\n",
       "  <thead>\n",
       "    <tr style=\"text-align: right;\">\n",
       "      <th></th>\n",
       "      <th>id</th>\n",
       "      <th>gender</th>\n",
       "      <th>age</th>\n",
       "      <th>hypertension</th>\n",
       "      <th>heart_disease</th>\n",
       "      <th>ever_married</th>\n",
       "      <th>work_type</th>\n",
       "      <th>Residence_type</th>\n",
       "      <th>avg_glucose_level</th>\n",
       "      <th>bmi</th>\n",
       "      <th>smoking_status</th>\n",
       "      <th>stroke</th>\n",
       "    </tr>\n",
       "  </thead>\n",
       "  <tbody>\n",
       "    <tr>\n",
       "      <th>0</th>\n",
       "      <td>9046</td>\n",
       "      <td>Male</td>\n",
       "      <td>67.0</td>\n",
       "      <td>0</td>\n",
       "      <td>1</td>\n",
       "      <td>Yes</td>\n",
       "      <td>Private</td>\n",
       "      <td>Urban</td>\n",
       "      <td>228.69</td>\n",
       "      <td>36.6</td>\n",
       "      <td>formerly smoked</td>\n",
       "      <td>1</td>\n",
       "    </tr>\n",
       "    <tr>\n",
       "      <th>1</th>\n",
       "      <td>51676</td>\n",
       "      <td>Female</td>\n",
       "      <td>61.0</td>\n",
       "      <td>0</td>\n",
       "      <td>0</td>\n",
       "      <td>Yes</td>\n",
       "      <td>Self-employed</td>\n",
       "      <td>Rural</td>\n",
       "      <td>202.21</td>\n",
       "      <td>NaN</td>\n",
       "      <td>never smoked</td>\n",
       "      <td>1</td>\n",
       "    </tr>\n",
       "    <tr>\n",
       "      <th>2</th>\n",
       "      <td>31112</td>\n",
       "      <td>Male</td>\n",
       "      <td>80.0</td>\n",
       "      <td>0</td>\n",
       "      <td>1</td>\n",
       "      <td>Yes</td>\n",
       "      <td>Private</td>\n",
       "      <td>Rural</td>\n",
       "      <td>105.92</td>\n",
       "      <td>32.5</td>\n",
       "      <td>never smoked</td>\n",
       "      <td>1</td>\n",
       "    </tr>\n",
       "  </tbody>\n",
       "</table>\n",
       "</div>"
      ],
      "text/plain": [
       "      id  gender   age  hypertension  heart_disease ever_married  \\\n",
       "0   9046    Male  67.0             0              1          Yes   \n",
       "1  51676  Female  61.0             0              0          Yes   \n",
       "2  31112    Male  80.0             0              1          Yes   \n",
       "\n",
       "       work_type Residence_type  avg_glucose_level   bmi   smoking_status  \\\n",
       "0        Private          Urban             228.69  36.6  formerly smoked   \n",
       "1  Self-employed          Rural             202.21   NaN     never smoked   \n",
       "2        Private          Rural             105.92  32.5     never smoked   \n",
       "\n",
       "   stroke  \n",
       "0       1  \n",
       "1       1  \n",
       "2       1  "
      ]
     },
     "execution_count": 730,
     "metadata": {},
     "output_type": "execute_result"
    }
   ],
   "source": [
    "df = pd.read_csv('data/healthcare-dataset-stroke-data.csv')\n",
    "df.head(3)"
   ]
  },
  {
   "cell_type": "code",
   "execution_count": 731,
   "id": "ab2e05dd",
   "metadata": {},
   "outputs": [
    {
     "name": "stdout",
     "output_type": "stream",
     "text": [
      "<class 'pandas.core.frame.DataFrame'>\n",
      "RangeIndex: 5110 entries, 0 to 5109\n",
      "Data columns (total 12 columns):\n",
      " #   Column             Non-Null Count  Dtype  \n",
      "---  ------             --------------  -----  \n",
      " 0   id                 5110 non-null   int64  \n",
      " 1   gender             5110 non-null   object \n",
      " 2   age                5110 non-null   float64\n",
      " 3   hypertension       5110 non-null   int64  \n",
      " 4   heart_disease      5110 non-null   int64  \n",
      " 5   ever_married       5110 non-null   object \n",
      " 6   work_type          5110 non-null   object \n",
      " 7   Residence_type     5110 non-null   object \n",
      " 8   avg_glucose_level  5110 non-null   float64\n",
      " 9   bmi                4909 non-null   float64\n",
      " 10  smoking_status     5110 non-null   object \n",
      " 11  stroke             5110 non-null   int64  \n",
      "dtypes: float64(3), int64(4), object(5)\n",
      "memory usage: 479.2+ KB\n"
     ]
    }
   ],
   "source": [
    "df.info()"
   ]
  },
  {
   "cell_type": "code",
   "execution_count": 732,
   "id": "f9546c78",
   "metadata": {},
   "outputs": [
    {
     "data": {
      "text/html": [
       "<div>\n",
       "<style scoped>\n",
       "    .dataframe tbody tr th:only-of-type {\n",
       "        vertical-align: middle;\n",
       "    }\n",
       "\n",
       "    .dataframe tbody tr th {\n",
       "        vertical-align: top;\n",
       "    }\n",
       "\n",
       "    .dataframe thead th {\n",
       "        text-align: right;\n",
       "    }\n",
       "</style>\n",
       "<table border=\"1\" class=\"dataframe\">\n",
       "  <thead>\n",
       "    <tr style=\"text-align: right;\">\n",
       "      <th></th>\n",
       "      <th>id</th>\n",
       "      <th>age</th>\n",
       "      <th>hypertension</th>\n",
       "      <th>heart_disease</th>\n",
       "      <th>avg_glucose_level</th>\n",
       "      <th>bmi</th>\n",
       "      <th>stroke</th>\n",
       "    </tr>\n",
       "  </thead>\n",
       "  <tbody>\n",
       "    <tr>\n",
       "      <th>count</th>\n",
       "      <td>5110.000000</td>\n",
       "      <td>5110.000000</td>\n",
       "      <td>5110.000000</td>\n",
       "      <td>5110.000000</td>\n",
       "      <td>5110.000000</td>\n",
       "      <td>4909.000000</td>\n",
       "      <td>5110.000000</td>\n",
       "    </tr>\n",
       "    <tr>\n",
       "      <th>mean</th>\n",
       "      <td>36517.829354</td>\n",
       "      <td>43.226614</td>\n",
       "      <td>0.097456</td>\n",
       "      <td>0.054012</td>\n",
       "      <td>106.147677</td>\n",
       "      <td>28.893237</td>\n",
       "      <td>0.048728</td>\n",
       "    </tr>\n",
       "    <tr>\n",
       "      <th>std</th>\n",
       "      <td>21161.721625</td>\n",
       "      <td>22.612647</td>\n",
       "      <td>0.296607</td>\n",
       "      <td>0.226063</td>\n",
       "      <td>45.283560</td>\n",
       "      <td>7.854067</td>\n",
       "      <td>0.215320</td>\n",
       "    </tr>\n",
       "    <tr>\n",
       "      <th>min</th>\n",
       "      <td>67.000000</td>\n",
       "      <td>0.080000</td>\n",
       "      <td>0.000000</td>\n",
       "      <td>0.000000</td>\n",
       "      <td>55.120000</td>\n",
       "      <td>10.300000</td>\n",
       "      <td>0.000000</td>\n",
       "    </tr>\n",
       "    <tr>\n",
       "      <th>25%</th>\n",
       "      <td>17741.250000</td>\n",
       "      <td>25.000000</td>\n",
       "      <td>0.000000</td>\n",
       "      <td>0.000000</td>\n",
       "      <td>77.245000</td>\n",
       "      <td>23.500000</td>\n",
       "      <td>0.000000</td>\n",
       "    </tr>\n",
       "    <tr>\n",
       "      <th>50%</th>\n",
       "      <td>36932.000000</td>\n",
       "      <td>45.000000</td>\n",
       "      <td>0.000000</td>\n",
       "      <td>0.000000</td>\n",
       "      <td>91.885000</td>\n",
       "      <td>28.100000</td>\n",
       "      <td>0.000000</td>\n",
       "    </tr>\n",
       "    <tr>\n",
       "      <th>75%</th>\n",
       "      <td>54682.000000</td>\n",
       "      <td>61.000000</td>\n",
       "      <td>0.000000</td>\n",
       "      <td>0.000000</td>\n",
       "      <td>114.090000</td>\n",
       "      <td>33.100000</td>\n",
       "      <td>0.000000</td>\n",
       "    </tr>\n",
       "    <tr>\n",
       "      <th>max</th>\n",
       "      <td>72940.000000</td>\n",
       "      <td>82.000000</td>\n",
       "      <td>1.000000</td>\n",
       "      <td>1.000000</td>\n",
       "      <td>271.740000</td>\n",
       "      <td>97.600000</td>\n",
       "      <td>1.000000</td>\n",
       "    </tr>\n",
       "  </tbody>\n",
       "</table>\n",
       "</div>"
      ],
      "text/plain": [
       "                 id          age  hypertension  heart_disease  \\\n",
       "count   5110.000000  5110.000000   5110.000000    5110.000000   \n",
       "mean   36517.829354    43.226614      0.097456       0.054012   \n",
       "std    21161.721625    22.612647      0.296607       0.226063   \n",
       "min       67.000000     0.080000      0.000000       0.000000   \n",
       "25%    17741.250000    25.000000      0.000000       0.000000   \n",
       "50%    36932.000000    45.000000      0.000000       0.000000   \n",
       "75%    54682.000000    61.000000      0.000000       0.000000   \n",
       "max    72940.000000    82.000000      1.000000       1.000000   \n",
       "\n",
       "       avg_glucose_level          bmi       stroke  \n",
       "count        5110.000000  4909.000000  5110.000000  \n",
       "mean          106.147677    28.893237     0.048728  \n",
       "std            45.283560     7.854067     0.215320  \n",
       "min            55.120000    10.300000     0.000000  \n",
       "25%            77.245000    23.500000     0.000000  \n",
       "50%            91.885000    28.100000     0.000000  \n",
       "75%           114.090000    33.100000     0.000000  \n",
       "max           271.740000    97.600000     1.000000  "
      ]
     },
     "execution_count": 732,
     "metadata": {},
     "output_type": "execute_result"
    }
   ],
   "source": [
    "df.describe()"
   ]
  },
  {
   "cell_type": "code",
   "execution_count": 733,
   "id": "526de565",
   "metadata": {},
   "outputs": [
    {
     "data": {
      "text/plain": [
       "stroke\n",
       "0    4861\n",
       "1     249\n",
       "Name: count, dtype: int64"
      ]
     },
     "execution_count": 733,
     "metadata": {},
     "output_type": "execute_result"
    }
   ],
   "source": [
    "df[\"stroke\"].value_counts()"
   ]
  },
  {
   "cell_type": "markdown",
   "id": "652870ca",
   "metadata": {},
   "source": [
    "## Visualização de Dados"
   ]
  },
  {
   "cell_type": "code",
   "execution_count": 734,
   "id": "07a74864",
   "metadata": {},
   "outputs": [],
   "source": [
    "df_stroke = df[df[\"stroke\"] == 1]\n",
    "df_no_stroke = df[df[\"stroke\"] == 0]"
   ]
  },
  {
   "cell_type": "markdown",
   "id": "2559b0b6",
   "metadata": {},
   "source": [
    "### Criação de Hipoteses"
   ]
  },
  {
   "cell_type": "markdown",
   "id": "940bb190",
   "metadata": {},
   "source": [
    "#### Hipotese 01: Idade interfere na chance de AVC"
   ]
  },
  {
   "cell_type": "code",
   "execution_count": 735,
   "id": "41cdd649",
   "metadata": {},
   "outputs": [
    {
     "data": {
      "image/png": "[encoded data removed]",
      "text/plain": [
       "<Figure size 1000x600 with 1 Axes>"
      ]
     },
     "metadata": {},
     "output_type": "display_data"
    }
   ],
   "source": [
    "plt.figure(figsize=(10, 6))\n",
    "plt.hist(df_stroke[\"age\"], bins=50, color='blue', alpha=0.7)\n",
    "plt.show()"
   ]
  },
  {
   "cell_type": "code",
   "execution_count": 736,
   "id": "109a5e40",
   "metadata": {},
   "outputs": [
    {
     "data": {
      "image/png": "[encoded data removed]",
      "text/plain": [
       "<Figure size 1000x600 with 1 Axes>"
      ]
     },
     "metadata": {},
     "output_type": "display_data"
    }
   ],
   "source": [
    "plt.figure(figsize=(10, 6))\n",
    "plt.hist(df[\"age\"], bins=50, color='blue', alpha=0.7)\n",
    "plt.show()"
   ]
  },
  {
   "cell_type": "markdown",
   "id": "5429f086",
   "metadata": {},
   "source": [
    "- Pessoas mais velhas tem mais AVC"
   ]
  },
  {
   "cell_type": "markdown",
   "id": "3dfbbb10",
   "metadata": {},
   "source": [
    "#### Hipotese 02: Pessoas com doença do Coração e Hipertensão tem mais AVC"
   ]
  },
  {
   "cell_type": "markdown",
   "id": "7378dd6a",
   "metadata": {},
   "source": [
    "##### Hypertension"
   ]
  },
  {
   "cell_type": "code",
   "execution_count": 737,
   "id": "a7233090",
   "metadata": {},
   "outputs": [
    {
     "data": {
      "text/plain": [
       "stroke\n",
       "0    0.86747\n",
       "1    0.13253\n",
       "Name: proportion, dtype: float64"
      ]
     },
     "execution_count": 737,
     "metadata": {},
     "output_type": "execute_result"
    }
   ],
   "source": [
    "df_hypertension = df[df[\"hypertension\"] == 1]\n",
    "\n",
    "df_hypertension[\"stroke\"].value_counts(normalize=True)"
   ]
  },
  {
   "cell_type": "code",
   "execution_count": 738,
   "id": "759875e1",
   "metadata": {},
   "outputs": [
    {
     "data": {
      "text/plain": [
       "stroke\n",
       "0    0.960321\n",
       "1    0.039679\n",
       "Name: proportion, dtype: float64"
      ]
     },
     "execution_count": 738,
     "metadata": {},
     "output_type": "execute_result"
    }
   ],
   "source": [
    "df_no_hypertension = df[df[\"hypertension\"] == 0]\n",
    "df_no_hypertension[\"stroke\"].value_counts(normalize=True)"
   ]
  },
  {
   "cell_type": "markdown",
   "id": "6e6c0e61",
   "metadata": {},
   "source": [
    "- Em média, pessoas com hipertensão sofrem 3 vezes mais AVC do que pessoas que não tem."
   ]
  },
  {
   "cell_type": "markdown",
   "id": "4fe80b5f",
   "metadata": {},
   "source": [
    "##### Doenças do Coração"
   ]
  },
  {
   "cell_type": "code",
   "execution_count": 739,
   "id": "01b786e6",
   "metadata": {},
   "outputs": [
    {
     "data": {
      "text/plain": [
       "(stroke\n",
       " 0    0.82971\n",
       " 1    0.17029\n",
       " Name: proportion, dtype: float64,\n",
       " stroke\n",
       " 0    0.958213\n",
       " 1    0.041787\n",
       " Name: proportion, dtype: float64)"
      ]
     },
     "execution_count": 739,
     "metadata": {},
     "output_type": "execute_result"
    }
   ],
   "source": [
    "df_heart_disease = df[df[\"heart_disease\"] == 1]\n",
    "df_no_heart_disease = df[df[\"heart_disease\"] == 0]\n",
    "\n",
    "df_heart_disease[\"stroke\"].value_counts(normalize=True),df_no_heart_disease[\"stroke\"].value_counts(normalize=True)"
   ]
  },
  {
   "cell_type": "markdown",
   "id": "68fec796",
   "metadata": {},
   "source": [
    "- Aumento de 4 vezes"
   ]
  },
  {
   "cell_type": "markdown",
   "id": "86551d1e",
   "metadata": {},
   "source": [
    "##### Os dois"
   ]
  },
  {
   "cell_type": "code",
   "execution_count": 740,
   "id": "fba8535f",
   "metadata": {},
   "outputs": [
    {
     "data": {
      "text/plain": [
       "(stroke\n",
       " 0    0.796875\n",
       " 1    0.203125\n",
       " Name: proportion, dtype: float64,\n",
       " stroke\n",
       " 0    0.966136\n",
       " 1    0.033864\n",
       " Name: proportion, dtype: float64)"
      ]
     },
     "execution_count": 740,
     "metadata": {},
     "output_type": "execute_result"
    }
   ],
   "source": [
    "df_heart_disease_and_hypertension = df[(df[\"heart_disease\"] == 1) & (df[\"hypertension\"] == 1)]\n",
    "df_no_heart_disease_and_hypertension = df[(df[\"heart_disease\"] == 0) & (df[\"hypertension\"] == 0)]\n",
    "\n",
    "df_heart_disease_and_hypertension[\"stroke\"].value_counts(normalize=True), df_no_heart_disease_and_hypertension[\"stroke\"].value_counts(normalize=True)"
   ]
  },
  {
   "cell_type": "markdown",
   "id": "41d2cc73",
   "metadata": {},
   "source": [
    "- Correlação forte!!!!"
   ]
  },
  {
   "cell_type": "markdown",
   "id": "2dc3b6d3",
   "metadata": {},
   "source": [
    "### Análise de outlier em BMI"
   ]
  },
  {
   "cell_type": "code",
   "execution_count": 741,
   "id": "751a12bb",
   "metadata": {},
   "outputs": [
    {
     "data": {
      "image/png": "[encoded data removed]",
      "text/plain": [
       "<Figure size 1000x600 with 1 Axes>"
      ]
     },
     "metadata": {},
     "output_type": "display_data"
    }
   ],
   "source": [
    "df_bminonull = df[df[\"bmi\"].notnull()]\n",
    "plt.figure(figsize=(10, 6))\n",
    "plt.boxplot(df_bminonull[\"bmi\"])\n",
    "plt.show()"
   ]
  },
  {
   "cell_type": "markdown",
   "id": "f2b302b8",
   "metadata": {},
   "source": [
    "Dois valores apenas acima de 80"
   ]
  },
  {
   "cell_type": "markdown",
   "id": "86c7709b",
   "metadata": {},
   "source": [
    "#### Limpeza dos Outliers de BMI"
   ]
  },
  {
   "cell_type": "code",
   "execution_count": 742,
   "id": "90bee3eb",
   "metadata": {},
   "outputs": [
    {
     "data": {
      "text/html": [
       "<div>\n",
       "<style scoped>\n",
       "    .dataframe tbody tr th:only-of-type {\n",
       "        vertical-align: middle;\n",
       "    }\n",
       "\n",
       "    .dataframe tbody tr th {\n",
       "        vertical-align: top;\n",
       "    }\n",
       "\n",
       "    .dataframe thead th {\n",
       "        text-align: right;\n",
       "    }\n",
       "</style>\n",
       "<table border=\"1\" class=\"dataframe\">\n",
       "  <thead>\n",
       "    <tr style=\"text-align: right;\">\n",
       "      <th></th>\n",
       "      <th>id</th>\n",
       "      <th>gender</th>\n",
       "      <th>age</th>\n",
       "      <th>hypertension</th>\n",
       "      <th>heart_disease</th>\n",
       "      <th>ever_married</th>\n",
       "      <th>work_type</th>\n",
       "      <th>Residence_type</th>\n",
       "      <th>avg_glucose_level</th>\n",
       "      <th>bmi</th>\n",
       "      <th>smoking_status</th>\n",
       "      <th>stroke</th>\n",
       "    </tr>\n",
       "  </thead>\n",
       "  <tbody>\n",
       "    <tr>\n",
       "      <th>2128</th>\n",
       "      <td>56420</td>\n",
       "      <td>Male</td>\n",
       "      <td>17.0</td>\n",
       "      <td>1</td>\n",
       "      <td>0</td>\n",
       "      <td>No</td>\n",
       "      <td>Private</td>\n",
       "      <td>Rural</td>\n",
       "      <td>61.67</td>\n",
       "      <td>97.6</td>\n",
       "      <td>Unknown</td>\n",
       "      <td>0</td>\n",
       "    </tr>\n",
       "    <tr>\n",
       "      <th>4209</th>\n",
       "      <td>51856</td>\n",
       "      <td>Male</td>\n",
       "      <td>38.0</td>\n",
       "      <td>1</td>\n",
       "      <td>0</td>\n",
       "      <td>Yes</td>\n",
       "      <td>Private</td>\n",
       "      <td>Rural</td>\n",
       "      <td>56.90</td>\n",
       "      <td>92.0</td>\n",
       "      <td>never smoked</td>\n",
       "      <td>0</td>\n",
       "    </tr>\n",
       "  </tbody>\n",
       "</table>\n",
       "</div>"
      ],
      "text/plain": [
       "         id gender   age  hypertension  heart_disease ever_married work_type  \\\n",
       "2128  56420   Male  17.0             1              0           No   Private   \n",
       "4209  51856   Male  38.0             1              0          Yes   Private   \n",
       "\n",
       "     Residence_type  avg_glucose_level   bmi smoking_status  stroke  \n",
       "2128          Rural              61.67  97.6        Unknown       0  \n",
       "4209          Rural              56.90  92.0   never smoked       0  "
      ]
     },
     "execution_count": 742,
     "metadata": {},
     "output_type": "execute_result"
    }
   ],
   "source": [
    "df_bmi_80 = df_bminonull[df_bminonull[\"bmi\"] > 80]\n",
    "\n",
    "df_bmi_80"
   ]
  },
  {
   "cell_type": "code",
   "execution_count": 743,
   "id": "b49f02c7",
   "metadata": {},
   "outputs": [],
   "source": [
    "df = df.drop(df_bmi_80.index)"
   ]
  },
  {
   "cell_type": "markdown",
   "id": "2d22d1ac",
   "metadata": {},
   "source": [
    "### Análise de outlier em idade"
   ]
  },
  {
   "cell_type": "code",
   "execution_count": 744,
   "id": "5ae26a82",
   "metadata": {},
   "outputs": [
    {
     "data": {
      "image/png": "[encoded data removed]",
      "text/plain": [
       "<Figure size 1000x600 with 1 Axes>"
      ]
     },
     "metadata": {},
     "output_type": "display_data"
    }
   ],
   "source": [
    "plt.figure(figsize=(10, 6))\n",
    "plt.boxplot(df_stroke[\"age\"])\n",
    "plt.show()"
   ]
  },
  {
   "cell_type": "markdown",
   "id": "54b61b72",
   "metadata": {},
   "source": [
    "## Manipulação e Limpeza de Dados"
   ]
  },
  {
   "cell_type": "markdown",
   "id": "7145d344",
   "metadata": {},
   "source": [
    "- Valores Nulos de BMI\n",
    "- Valores Inconsistentes de AGE\n",
    "- Análise de Outliers de Glucose Level\n",
    "- Codificação de Variáveis Categóricas"
   ]
  },
  {
   "cell_type": "markdown",
   "id": "ca3fd8c8",
   "metadata": {},
   "source": [
    "### Análise de Valores Nulos, Faltantes ou Inconsistentes "
   ]
  },
  {
   "cell_type": "markdown",
   "id": "861adf36",
   "metadata": {},
   "source": [
    "#### Valores nulos de BMI"
   ]
  },
  {
   "cell_type": "code",
   "execution_count": 745,
   "id": "1a96fb0d",
   "metadata": {},
   "outputs": [
    {
     "data": {
      "text/plain": [
       "stroke\n",
       "0    161\n",
       "1     40\n",
       "Name: count, dtype: int64"
      ]
     },
     "execution_count": 745,
     "metadata": {},
     "output_type": "execute_result"
    }
   ],
   "source": [
    "df_null = df[df[\"bmi\"].isnull()]\n",
    "df_null[\"stroke\"].value_counts()"
   ]
  },
  {
   "cell_type": "code",
   "execution_count": 746,
   "id": "5b8f3c36",
   "metadata": {},
   "outputs": [
    {
     "data": {
      "text/plain": [
       "(np.float64(28.5820806371329), np.float64(29.065757680358992))"
      ]
     },
     "execution_count": 746,
     "metadata": {},
     "output_type": "execute_result"
    }
   ],
   "source": [
    "df_women = df[df[\"gender\"] == \"Female\"]\n",
    "df_men = df[df[\"gender\"] == \"Male\"]\n",
    "\n",
    "df_men[\"bmi\"].mean(), df_women[\"bmi\"].mean()"
   ]
  },
  {
   "cell_type": "code",
   "execution_count": 747,
   "id": "99852fd3",
   "metadata": {},
   "outputs": [],
   "source": [
    "female_mean = df_women[\"bmi\"].mean()\n",
    "male_mean = df_men[\"bmi\"].mean()\n",
    "\n",
    "for index, row in df_null.iterrows():\n",
    "    if pd.isnull(row[\"bmi\"]):\n",
    "        if row[\"gender\"] == \"Female\":\n",
    "            df.loc[index, \"bmi\"] = female_mean\n",
    "        else:\n",
    "            df.loc[index, \"bmi\"] = male_mean\n"
   ]
  },
  {
   "cell_type": "code",
   "execution_count": 748,
   "id": "35711742",
   "metadata": {},
   "outputs": [
    {
     "data": {
      "text/plain": [
       "np.int64(0)"
      ]
     },
     "execution_count": 748,
     "metadata": {},
     "output_type": "execute_result"
    }
   ],
   "source": [
    "df[\"bmi\"].isnull().sum()"
   ]
  },
  {
   "cell_type": "markdown",
   "id": "05268e5c",
   "metadata": {},
   "source": [
    "#### Valores inconsistentes de Age"
   ]
  },
  {
   "cell_type": "code",
   "execution_count": 749,
   "id": "e6220179",
   "metadata": {},
   "outputs": [
    {
     "data": {
      "text/plain": [
       "True"
      ]
     },
     "execution_count": 749,
     "metadata": {},
     "output_type": "execute_result"
    }
   ],
   "source": [
    "5.0 == 5"
   ]
  },
  {
   "cell_type": "code",
   "execution_count": 750,
   "id": "34706d27",
   "metadata": {},
   "outputs": [
    {
     "data": {
      "text/plain": [
       "True"
      ]
     },
     "execution_count": 750,
     "metadata": {},
     "output_type": "execute_result"
    }
   ],
   "source": [
    "var = 5.0\n",
    "var.is_integer()"
   ]
  },
  {
   "cell_type": "code",
   "execution_count": 751,
   "id": "7827e2c4",
   "metadata": {},
   "outputs": [
    {
     "data": {
      "image/png": "[encoded data removed]",
      "text/plain": [
       "<Figure size 1000x600 with 1 Axes>"
      ]
     },
     "metadata": {},
     "output_type": "display_data"
    }
   ],
   "source": [
    "df_age_float = df[df[\"age\"].apply(lambda x: x.is_integer() == False)]\n",
    "plt.figure(figsize=(10, 6))\n",
    "plt.hist(df_age_float[\"age\"], bins=50, color='blue', alpha=0.7)\n",
    "plt.show()"
   ]
  },
  {
   "cell_type": "code",
   "execution_count": 752,
   "id": "edbc35e6",
   "metadata": {},
   "outputs": [
    {
     "data": {
      "text/plain": [
       "stroke\n",
       "0    114\n",
       "1      1\n",
       "Name: count, dtype: int64"
      ]
     },
     "execution_count": 752,
     "metadata": {},
     "output_type": "execute_result"
    }
   ],
   "source": [
    "df_age_float[\"stroke\"].value_counts()"
   ]
  },
  {
   "cell_type": "code",
   "execution_count": 753,
   "id": "83860d17",
   "metadata": {},
   "outputs": [],
   "source": [
    "df = df.drop(df_age_float.index)"
   ]
  },
  {
   "cell_type": "code",
   "execution_count": 754,
   "id": "bc66f9a9",
   "metadata": {},
   "outputs": [
    {
     "data": {
      "text/html": [
       "<div>\n",
       "<style scoped>\n",
       "    .dataframe tbody tr th:only-of-type {\n",
       "        vertical-align: middle;\n",
       "    }\n",
       "\n",
       "    .dataframe tbody tr th {\n",
       "        vertical-align: top;\n",
       "    }\n",
       "\n",
       "    .dataframe thead th {\n",
       "        text-align: right;\n",
       "    }\n",
       "</style>\n",
       "<table border=\"1\" class=\"dataframe\">\n",
       "  <thead>\n",
       "    <tr style=\"text-align: right;\">\n",
       "      <th></th>\n",
       "      <th>id</th>\n",
       "      <th>age</th>\n",
       "      <th>hypertension</th>\n",
       "      <th>heart_disease</th>\n",
       "      <th>avg_glucose_level</th>\n",
       "      <th>bmi</th>\n",
       "      <th>stroke</th>\n",
       "    </tr>\n",
       "  </thead>\n",
       "  <tbody>\n",
       "    <tr>\n",
       "      <th>count</th>\n",
       "      <td>4993.000000</td>\n",
       "      <td>4993.000000</td>\n",
       "      <td>4993.000000</td>\n",
       "      <td>4993.000000</td>\n",
       "      <td>4993.000000</td>\n",
       "      <td>4993.000000</td>\n",
       "      <td>4993.000000</td>\n",
       "    </tr>\n",
       "    <tr>\n",
       "      <th>mean</th>\n",
       "      <td>36440.160425</td>\n",
       "      <td>44.202483</td>\n",
       "      <td>0.099339</td>\n",
       "      <td>0.055277</td>\n",
       "      <td>106.420110</td>\n",
       "      <td>29.092798</td>\n",
       "      <td>0.049670</td>\n",
       "    </tr>\n",
       "    <tr>\n",
       "      <th>std</th>\n",
       "      <td>21205.640276</td>\n",
       "      <td>21.940608</td>\n",
       "      <td>0.299147</td>\n",
       "      <td>0.228544</td>\n",
       "      <td>45.563248</td>\n",
       "      <td>7.501737</td>\n",
       "      <td>0.217283</td>\n",
       "    </tr>\n",
       "    <tr>\n",
       "      <th>min</th>\n",
       "      <td>67.000000</td>\n",
       "      <td>1.000000</td>\n",
       "      <td>0.000000</td>\n",
       "      <td>0.000000</td>\n",
       "      <td>55.120000</td>\n",
       "      <td>11.300000</td>\n",
       "      <td>0.000000</td>\n",
       "    </tr>\n",
       "    <tr>\n",
       "      <th>25%</th>\n",
       "      <td>17608.000000</td>\n",
       "      <td>27.000000</td>\n",
       "      <td>0.000000</td>\n",
       "      <td>0.000000</td>\n",
       "      <td>77.420000</td>\n",
       "      <td>24.100000</td>\n",
       "      <td>0.000000</td>\n",
       "    </tr>\n",
       "    <tr>\n",
       "      <th>50%</th>\n",
       "      <td>36825.000000</td>\n",
       "      <td>45.000000</td>\n",
       "      <td>0.000000</td>\n",
       "      <td>0.000000</td>\n",
       "      <td>91.930000</td>\n",
       "      <td>28.582081</td>\n",
       "      <td>0.000000</td>\n",
       "    </tr>\n",
       "    <tr>\n",
       "      <th>75%</th>\n",
       "      <td>54620.000000</td>\n",
       "      <td>61.000000</td>\n",
       "      <td>0.000000</td>\n",
       "      <td>0.000000</td>\n",
       "      <td>114.180000</td>\n",
       "      <td>32.900000</td>\n",
       "      <td>0.000000</td>\n",
       "    </tr>\n",
       "    <tr>\n",
       "      <th>max</th>\n",
       "      <td>72940.000000</td>\n",
       "      <td>82.000000</td>\n",
       "      <td>1.000000</td>\n",
       "      <td>1.000000</td>\n",
       "      <td>271.740000</td>\n",
       "      <td>78.000000</td>\n",
       "      <td>1.000000</td>\n",
       "    </tr>\n",
       "  </tbody>\n",
       "</table>\n",
       "</div>"
      ],
      "text/plain": [
       "                 id          age  hypertension  heart_disease  \\\n",
       "count   4993.000000  4993.000000   4993.000000    4993.000000   \n",
       "mean   36440.160425    44.202483      0.099339       0.055277   \n",
       "std    21205.640276    21.940608      0.299147       0.228544   \n",
       "min       67.000000     1.000000      0.000000       0.000000   \n",
       "25%    17608.000000    27.000000      0.000000       0.000000   \n",
       "50%    36825.000000    45.000000      0.000000       0.000000   \n",
       "75%    54620.000000    61.000000      0.000000       0.000000   \n",
       "max    72940.000000    82.000000      1.000000       1.000000   \n",
       "\n",
       "       avg_glucose_level          bmi       stroke  \n",
       "count        4993.000000  4993.000000  4993.000000  \n",
       "mean          106.420110    29.092798     0.049670  \n",
       "std            45.563248     7.501737     0.217283  \n",
       "min            55.120000    11.300000     0.000000  \n",
       "25%            77.420000    24.100000     0.000000  \n",
       "50%            91.930000    28.582081     0.000000  \n",
       "75%           114.180000    32.900000     0.000000  \n",
       "max           271.740000    78.000000     1.000000  "
      ]
     },
     "execution_count": 754,
     "metadata": {},
     "output_type": "execute_result"
    }
   ],
   "source": [
    "df.describe()"
   ]
  },
  {
   "cell_type": "markdown",
   "id": "5be9f01d",
   "metadata": {},
   "source": [
    "### Análise de Outliers"
   ]
  },
  {
   "cell_type": "markdown",
   "id": "f9af5d76",
   "metadata": {},
   "source": [
    "#### Análise de Outlier em Age"
   ]
  },
  {
   "cell_type": "markdown",
   "id": "84351771",
   "metadata": {},
   "source": [
    "##### DF Geral"
   ]
  },
  {
   "cell_type": "code",
   "execution_count": 755,
   "id": "cd2d4948",
   "metadata": {},
   "outputs": [
    {
     "data": {
      "image/png": "[encoded data removed]",
      "text/plain": [
       "<Figure size 1000x600 with 1 Axes>"
      ]
     },
     "metadata": {},
     "output_type": "display_data"
    }
   ],
   "source": [
    "plt.figure(figsize=(10, 6))\n",
    "plt.boxplot(df[\"age\"])\n",
    "plt.show()"
   ]
  },
  {
   "cell_type": "code",
   "execution_count": 756,
   "id": "9d918fb2",
   "metadata": {},
   "outputs": [
    {
     "data": {
      "image/png": "[encoded data removed]",
      "text/plain": [
       "<Figure size 1000x600 with 1 Axes>"
      ]
     },
     "metadata": {},
     "output_type": "display_data"
    }
   ],
   "source": [
    "plt.figure(figsize=(10, 6))\n",
    "plt.hist(df[\"age\"], bins=100, color='blue', alpha=0.7)\n",
    "plt.show()"
   ]
  },
  {
   "cell_type": "markdown",
   "id": "f659be2f",
   "metadata": {},
   "source": [
    "##### DF STROKE"
   ]
  },
  {
   "cell_type": "markdown",
   "id": "9a441ed8",
   "metadata": {},
   "source": [
    "###### Gráficos"
   ]
  },
  {
   "cell_type": "code",
   "execution_count": 757,
   "id": "0a53c184",
   "metadata": {},
   "outputs": [
    {
     "data": {
      "image/png": "[encoded data removed]",
      "text/plain": [
       "<Figure size 1000x600 with 1 Axes>"
      ]
     },
     "metadata": {},
     "output_type": "display_data"
    }
   ],
   "source": [
    "df_stroke = df[df[\"stroke\"] == 1]\n",
    "plt.figure(figsize=(10, 6))\n",
    "plt.boxplot(df_stroke[\"age\"])\n",
    "plt.show()"
   ]
  },
  {
   "cell_type": "code",
   "execution_count": 758,
   "id": "24220c0e",
   "metadata": {},
   "outputs": [
    {
     "data": {
      "image/png": "[encoded data removed]",
      "text/plain": [
       "<Figure size 1000x600 with 1 Axes>"
      ]
     },
     "metadata": {},
     "output_type": "display_data"
    }
   ],
   "source": [
    "plt.figure(figsize=(10, 6))\n",
    "plt.hist(df_stroke[\"age\"], bins=50, color='blue', alpha=0.7)\n",
    "plt.show()"
   ]
  },
  {
   "cell_type": "markdown",
   "id": "abc3511a",
   "metadata": {},
   "source": [
    "###### Limpeza"
   ]
  },
  {
   "cell_type": "code",
   "execution_count": 759,
   "id": "a5478860",
   "metadata": {},
   "outputs": [
    {
     "data": {
      "text/html": [
       "<div>\n",
       "<style scoped>\n",
       "    .dataframe tbody tr th:only-of-type {\n",
       "        vertical-align: middle;\n",
       "    }\n",
       "\n",
       "    .dataframe tbody tr th {\n",
       "        vertical-align: top;\n",
       "    }\n",
       "\n",
       "    .dataframe thead th {\n",
       "        text-align: right;\n",
       "    }\n",
       "</style>\n",
       "<table border=\"1\" class=\"dataframe\">\n",
       "  <thead>\n",
       "    <tr style=\"text-align: right;\">\n",
       "      <th></th>\n",
       "      <th>id</th>\n",
       "      <th>gender</th>\n",
       "      <th>age</th>\n",
       "      <th>hypertension</th>\n",
       "      <th>heart_disease</th>\n",
       "      <th>ever_married</th>\n",
       "      <th>work_type</th>\n",
       "      <th>Residence_type</th>\n",
       "      <th>avg_glucose_level</th>\n",
       "      <th>bmi</th>\n",
       "      <th>smoking_status</th>\n",
       "      <th>stroke</th>\n",
       "    </tr>\n",
       "  </thead>\n",
       "  <tbody>\n",
       "    <tr>\n",
       "      <th>245</th>\n",
       "      <td>49669</td>\n",
       "      <td>Female</td>\n",
       "      <td>14.0</td>\n",
       "      <td>0</td>\n",
       "      <td>0</td>\n",
       "      <td>No</td>\n",
       "      <td>children</td>\n",
       "      <td>Rural</td>\n",
       "      <td>57.93</td>\n",
       "      <td>30.9</td>\n",
       "      <td>Unknown</td>\n",
       "      <td>1</td>\n",
       "    </tr>\n",
       "  </tbody>\n",
       "</table>\n",
       "</div>"
      ],
      "text/plain": [
       "        id  gender   age  hypertension  heart_disease ever_married work_type  \\\n",
       "245  49669  Female  14.0             0              0           No  children   \n",
       "\n",
       "    Residence_type  avg_glucose_level   bmi smoking_status  stroke  \n",
       "245          Rural              57.93  30.9        Unknown       1  "
      ]
     },
     "execution_count": 759,
     "metadata": {},
     "output_type": "execute_result"
    }
   ],
   "source": [
    "df_stroke = df[df[\"stroke\"] == 1]\n",
    "df_outliers_idade = df_stroke[df_stroke[\"age\"] < 20]\n",
    "df_outliers_idade"
   ]
  },
  {
   "cell_type": "code",
   "execution_count": 760,
   "id": "0948d5a4",
   "metadata": {},
   "outputs": [],
   "source": [
    "df = df.drop(df_outliers_idade.index)"
   ]
  },
  {
   "cell_type": "markdown",
   "id": "5b349a4c",
   "metadata": {},
   "source": [
    "#### Análise de Outliers em Glocuse Level"
   ]
  },
  {
   "cell_type": "code",
   "execution_count": 761,
   "id": "80257f2f",
   "metadata": {},
   "outputs": [
    {
     "data": {
      "image/png": "[encoded data removed]",
      "text/plain": [
       "<Figure size 1000x600 with 1 Axes>"
      ]
     },
     "metadata": {},
     "output_type": "display_data"
    }
   ],
   "source": [
    "plt.figure(figsize=(10, 6))\n",
    "plt.boxplot(df[\"avg_glucose_level\"])\n",
    "plt.show()"
   ]
  },
  {
   "cell_type": "code",
   "execution_count": 762,
   "id": "1803fdc5",
   "metadata": {},
   "outputs": [
    {
     "data": {
      "image/png": "[encoded data removed]",
      "text/plain": [
       "<Figure size 1000x600 with 1 Axes>"
      ]
     },
     "metadata": {},
     "output_type": "display_data"
    }
   ],
   "source": [
    "plt.figure(figsize=(10, 6))\n",
    "plt.hist(df[\"avg_glucose_level\"], bins=70, color='blue', alpha=0.7)\n",
    "plt.show()"
   ]
  },
  {
   "cell_type": "markdown",
   "id": "5a568bd7",
   "metadata": {},
   "source": [
    "### Codificação de variáveis categóricas"
   ]
  },
  {
   "cell_type": "code",
   "execution_count": 763,
   "id": "aeaaccd8",
   "metadata": {},
   "outputs": [
    {
     "name": "stdout",
     "output_type": "stream",
     "text": [
      "<class 'pandas.core.frame.DataFrame'>\n",
      "Index: 4992 entries, 0 to 5109\n",
      "Data columns (total 12 columns):\n",
      " #   Column             Non-Null Count  Dtype  \n",
      "---  ------             --------------  -----  \n",
      " 0   id                 4992 non-null   int64  \n",
      " 1   gender             4992 non-null   object \n",
      " 2   age                4992 non-null   float64\n",
      " 3   hypertension       4992 non-null   int64  \n",
      " 4   heart_disease      4992 non-null   int64  \n",
      " 5   ever_married       4992 non-null   object \n",
      " 6   work_type          4992 non-null   object \n",
      " 7   Residence_type     4992 non-null   object \n",
      " 8   avg_glucose_level  4992 non-null   float64\n",
      " 9   bmi                4992 non-null   float64\n",
      " 10  smoking_status     4992 non-null   object \n",
      " 11  stroke             4992 non-null   int64  \n",
      "dtypes: float64(3), int64(4), object(5)\n",
      "memory usage: 507.0+ KB\n"
     ]
    }
   ],
   "source": [
    "df.info()"
   ]
  },
  {
   "cell_type": "code",
   "execution_count": 764,
   "id": "3a89e724",
   "metadata": {},
   "outputs": [],
   "source": [
    "df[\"gender\"] = df[\"gender\"].map({\"Female\": 0, \"Male\": 1})\n",
    "df[\"ever_married\"] = df[\"ever_married\"].map({\"No\": 0, \"Yes\": 1})\n",
    "df[\"work_type\"] = df[\"work_type\"].map({\"children\": 0, \"Govt_job\": 1, \"Never_worked\": 2, \"Private\": 3, \"Self-employed\": 4})\n",
    "df[\"Residence_type\"] = df[\"Residence_type\"].map({\"Rural\": 0, \"Urban\": 1})\n",
    "df[\"smoking_status\"] = df[\"smoking_status\"].map({\"formerly smoked\": 0, \"never smoked\": 1, \"smokes\": 2, \"Unknown\": 3})"
   ]
  },
  {
   "cell_type": "code",
   "execution_count": 765,
   "id": "23982d98",
   "metadata": {},
   "outputs": [
    {
     "data": {
      "text/html": [
       "<div>\n",
       "<style scoped>\n",
       "    .dataframe tbody tr th:only-of-type {\n",
       "        vertical-align: middle;\n",
       "    }\n",
       "\n",
       "    .dataframe tbody tr th {\n",
       "        vertical-align: top;\n",
       "    }\n",
       "\n",
       "    .dataframe thead th {\n",
       "        text-align: right;\n",
       "    }\n",
       "</style>\n",
       "<table border=\"1\" class=\"dataframe\">\n",
       "  <thead>\n",
       "    <tr style=\"text-align: right;\">\n",
       "      <th></th>\n",
       "      <th>id</th>\n",
       "      <th>gender</th>\n",
       "      <th>age</th>\n",
       "      <th>hypertension</th>\n",
       "      <th>heart_disease</th>\n",
       "      <th>ever_married</th>\n",
       "      <th>work_type</th>\n",
       "      <th>Residence_type</th>\n",
       "      <th>avg_glucose_level</th>\n",
       "      <th>bmi</th>\n",
       "      <th>smoking_status</th>\n",
       "      <th>stroke</th>\n",
       "    </tr>\n",
       "  </thead>\n",
       "  <tbody>\n",
       "    <tr>\n",
       "      <th>0</th>\n",
       "      <td>9046</td>\n",
       "      <td>1.0</td>\n",
       "      <td>67.0</td>\n",
       "      <td>0</td>\n",
       "      <td>1</td>\n",
       "      <td>1</td>\n",
       "      <td>3</td>\n",
       "      <td>1</td>\n",
       "      <td>228.69</td>\n",
       "      <td>36.6</td>\n",
       "      <td>0</td>\n",
       "      <td>1</td>\n",
       "    </tr>\n",
       "  </tbody>\n",
       "</table>\n",
       "</div>"
      ],
      "text/plain": [
       "     id  gender   age  hypertension  heart_disease  ever_married  work_type  \\\n",
       "0  9046     1.0  67.0             0              1             1          3   \n",
       "\n",
       "   Residence_type  avg_glucose_level   bmi  smoking_status  stroke  \n",
       "0               1             228.69  36.6               0       1  "
      ]
     },
     "execution_count": 765,
     "metadata": {},
     "output_type": "execute_result"
    }
   ],
   "source": [
    "df.head(1)"
   ]
  },
  {
   "cell_type": "code",
   "execution_count": 766,
   "id": "a711881e",
   "metadata": {},
   "outputs": [
    {
     "data": {
      "text/html": [
       "<div>\n",
       "<style scoped>\n",
       "    .dataframe tbody tr th:only-of-type {\n",
       "        vertical-align: middle;\n",
       "    }\n",
       "\n",
       "    .dataframe tbody tr th {\n",
       "        vertical-align: top;\n",
       "    }\n",
       "\n",
       "    .dataframe thead th {\n",
       "        text-align: right;\n",
       "    }\n",
       "</style>\n",
       "<table border=\"1\" class=\"dataframe\">\n",
       "  <thead>\n",
       "    <tr style=\"text-align: right;\">\n",
       "      <th></th>\n",
       "      <th>id</th>\n",
       "      <th>gender</th>\n",
       "      <th>age</th>\n",
       "      <th>hypertension</th>\n",
       "      <th>heart_disease</th>\n",
       "      <th>ever_married</th>\n",
       "      <th>work_type</th>\n",
       "      <th>Residence_type</th>\n",
       "      <th>avg_glucose_level</th>\n",
       "      <th>bmi</th>\n",
       "      <th>smoking_status</th>\n",
       "      <th>stroke</th>\n",
       "    </tr>\n",
       "  </thead>\n",
       "  <tbody>\n",
       "    <tr>\n",
       "      <th>count</th>\n",
       "      <td>4992.000000</td>\n",
       "      <td>4991.000000</td>\n",
       "      <td>4992.000000</td>\n",
       "      <td>4992.000000</td>\n",
       "      <td>4992.000000</td>\n",
       "      <td>4992.000000</td>\n",
       "      <td>4992.000000</td>\n",
       "      <td>4992.000000</td>\n",
       "      <td>4992.000000</td>\n",
       "      <td>4992.000000</td>\n",
       "      <td>4992.000000</td>\n",
       "      <td>4992.000000</td>\n",
       "    </tr>\n",
       "    <tr>\n",
       "      <th>mean</th>\n",
       "      <td>36437.510417</td>\n",
       "      <td>0.411541</td>\n",
       "      <td>44.208534</td>\n",
       "      <td>0.099359</td>\n",
       "      <td>0.055288</td>\n",
       "      <td>0.671474</td>\n",
       "      <td>2.553285</td>\n",
       "      <td>0.508213</td>\n",
       "      <td>106.429824</td>\n",
       "      <td>29.092436</td>\n",
       "      <td>1.552484</td>\n",
       "      <td>0.049479</td>\n",
       "    </tr>\n",
       "    <tr>\n",
       "      <th>std</th>\n",
       "      <td>21206.937708</td>\n",
       "      <td>0.492162</td>\n",
       "      <td>21.938640</td>\n",
       "      <td>0.299173</td>\n",
       "      <td>0.228565</td>\n",
       "      <td>0.469724</td>\n",
       "      <td>1.234954</td>\n",
       "      <td>0.499983</td>\n",
       "      <td>45.562642</td>\n",
       "      <td>7.502445</td>\n",
       "      <td>1.083403</td>\n",
       "      <td>0.216888</td>\n",
       "    </tr>\n",
       "    <tr>\n",
       "      <th>min</th>\n",
       "      <td>67.000000</td>\n",
       "      <td>0.000000</td>\n",
       "      <td>1.000000</td>\n",
       "      <td>0.000000</td>\n",
       "      <td>0.000000</td>\n",
       "      <td>0.000000</td>\n",
       "      <td>0.000000</td>\n",
       "      <td>0.000000</td>\n",
       "      <td>55.120000</td>\n",
       "      <td>11.300000</td>\n",
       "      <td>0.000000</td>\n",
       "      <td>0.000000</td>\n",
       "    </tr>\n",
       "    <tr>\n",
       "      <th>25%</th>\n",
       "      <td>17598.250000</td>\n",
       "      <td>0.000000</td>\n",
       "      <td>27.000000</td>\n",
       "      <td>0.000000</td>\n",
       "      <td>0.000000</td>\n",
       "      <td>0.000000</td>\n",
       "      <td>2.000000</td>\n",
       "      <td>0.000000</td>\n",
       "      <td>77.420000</td>\n",
       "      <td>24.100000</td>\n",
       "      <td>1.000000</td>\n",
       "      <td>0.000000</td>\n",
       "    </tr>\n",
       "    <tr>\n",
       "      <th>50%</th>\n",
       "      <td>36822.500000</td>\n",
       "      <td>0.000000</td>\n",
       "      <td>45.000000</td>\n",
       "      <td>0.000000</td>\n",
       "      <td>0.000000</td>\n",
       "      <td>1.000000</td>\n",
       "      <td>3.000000</td>\n",
       "      <td>1.000000</td>\n",
       "      <td>91.940000</td>\n",
       "      <td>28.582081</td>\n",
       "      <td>1.000000</td>\n",
       "      <td>0.000000</td>\n",
       "    </tr>\n",
       "    <tr>\n",
       "      <th>75%</th>\n",
       "      <td>54625.750000</td>\n",
       "      <td>1.000000</td>\n",
       "      <td>61.000000</td>\n",
       "      <td>0.000000</td>\n",
       "      <td>0.000000</td>\n",
       "      <td>1.000000</td>\n",
       "      <td>3.000000</td>\n",
       "      <td>1.000000</td>\n",
       "      <td>114.187500</td>\n",
       "      <td>32.900000</td>\n",
       "      <td>3.000000</td>\n",
       "      <td>0.000000</td>\n",
       "    </tr>\n",
       "    <tr>\n",
       "      <th>max</th>\n",
       "      <td>72940.000000</td>\n",
       "      <td>1.000000</td>\n",
       "      <td>82.000000</td>\n",
       "      <td>1.000000</td>\n",
       "      <td>1.000000</td>\n",
       "      <td>1.000000</td>\n",
       "      <td>4.000000</td>\n",
       "      <td>1.000000</td>\n",
       "      <td>271.740000</td>\n",
       "      <td>78.000000</td>\n",
       "      <td>3.000000</td>\n",
       "      <td>1.000000</td>\n",
       "    </tr>\n",
       "  </tbody>\n",
       "</table>\n",
       "</div>"
      ],
      "text/plain": [
       "                 id       gender          age  hypertension  heart_disease  \\\n",
       "count   4992.000000  4991.000000  4992.000000   4992.000000    4992.000000   \n",
       "mean   36437.510417     0.411541    44.208534      0.099359       0.055288   \n",
       "std    21206.937708     0.492162    21.938640      0.299173       0.228565   \n",
       "min       67.000000     0.000000     1.000000      0.000000       0.000000   \n",
       "25%    17598.250000     0.000000    27.000000      0.000000       0.000000   \n",
       "50%    36822.500000     0.000000    45.000000      0.000000       0.000000   \n",
       "75%    54625.750000     1.000000    61.000000      0.000000       0.000000   \n",
       "max    72940.000000     1.000000    82.000000      1.000000       1.000000   \n",
       "\n",
       "       ever_married    work_type  Residence_type  avg_glucose_level  \\\n",
       "count   4992.000000  4992.000000     4992.000000        4992.000000   \n",
       "mean       0.671474     2.553285        0.508213         106.429824   \n",
       "std        0.469724     1.234954        0.499983          45.562642   \n",
       "min        0.000000     0.000000        0.000000          55.120000   \n",
       "25%        0.000000     2.000000        0.000000          77.420000   \n",
       "50%        1.000000     3.000000        1.000000          91.940000   \n",
       "75%        1.000000     3.000000        1.000000         114.187500   \n",
       "max        1.000000     4.000000        1.000000         271.740000   \n",
       "\n",
       "               bmi  smoking_status       stroke  \n",
       "count  4992.000000     4992.000000  4992.000000  \n",
       "mean     29.092436        1.552484     0.049479  \n",
       "std       7.502445        1.083403     0.216888  \n",
       "min      11.300000        0.000000     0.000000  \n",
       "25%      24.100000        1.000000     0.000000  \n",
       "50%      28.582081        1.000000     0.000000  \n",
       "75%      32.900000        3.000000     0.000000  \n",
       "max      78.000000        3.000000     1.000000  "
      ]
     },
     "execution_count": 766,
     "metadata": {},
     "output_type": "execute_result"
    }
   ],
   "source": [
    "df.describe()"
   ]
  },
  {
   "cell_type": "markdown",
   "id": "533c5ec5",
   "metadata": {},
   "source": [
    "### Limpeza da Coluna ID"
   ]
  },
  {
   "cell_type": "code",
   "execution_count": 767,
   "id": "d6bc6ee3",
   "metadata": {},
   "outputs": [
    {
     "data": {
      "text/html": [
       "<div>\n",
       "<style scoped>\n",
       "    .dataframe tbody tr th:only-of-type {\n",
       "        vertical-align: middle;\n",
       "    }\n",
       "\n",
       "    .dataframe tbody tr th {\n",
       "        vertical-align: top;\n",
       "    }\n",
       "\n",
       "    .dataframe thead th {\n",
       "        text-align: right;\n",
       "    }\n",
       "</style>\n",
       "<table border=\"1\" class=\"dataframe\">\n",
       "  <thead>\n",
       "    <tr style=\"text-align: right;\">\n",
       "      <th></th>\n",
       "      <th>gender</th>\n",
       "      <th>age</th>\n",
       "      <th>hypertension</th>\n",
       "      <th>heart_disease</th>\n",
       "      <th>ever_married</th>\n",
       "      <th>work_type</th>\n",
       "      <th>Residence_type</th>\n",
       "      <th>avg_glucose_level</th>\n",
       "      <th>bmi</th>\n",
       "      <th>smoking_status</th>\n",
       "      <th>stroke</th>\n",
       "    </tr>\n",
       "  </thead>\n",
       "  <tbody>\n",
       "    <tr>\n",
       "      <th>0</th>\n",
       "      <td>1.0</td>\n",
       "      <td>67.0</td>\n",
       "      <td>0</td>\n",
       "      <td>1</td>\n",
       "      <td>1</td>\n",
       "      <td>3</td>\n",
       "      <td>1</td>\n",
       "      <td>228.69</td>\n",
       "      <td>36.6</td>\n",
       "      <td>0</td>\n",
       "      <td>1</td>\n",
       "    </tr>\n",
       "  </tbody>\n",
       "</table>\n",
       "</div>"
      ],
      "text/plain": [
       "   gender   age  hypertension  heart_disease  ever_married  work_type  \\\n",
       "0     1.0  67.0             0              1             1          3   \n",
       "\n",
       "   Residence_type  avg_glucose_level   bmi  smoking_status  stroke  \n",
       "0               1             228.69  36.6               0       1  "
      ]
     },
     "execution_count": 767,
     "metadata": {},
     "output_type": "execute_result"
    }
   ],
   "source": [
    "df = df.drop(columns=[\"id\"])\n",
    "df.head(1)"
   ]
  },
  {
   "cell_type": "markdown",
   "id": "90055374",
   "metadata": {},
   "source": [
    "## Análise de Correlação de Colunas"
   ]
  },
  {
   "cell_type": "code",
   "execution_count": 768,
   "id": "79c0745c",
   "metadata": {},
   "outputs": [
    {
     "data": {
      "text/html": [
       "<div>\n",
       "<style scoped>\n",
       "    .dataframe tbody tr th:only-of-type {\n",
       "        vertical-align: middle;\n",
       "    }\n",
       "\n",
       "    .dataframe tbody tr th {\n",
       "        vertical-align: top;\n",
       "    }\n",
       "\n",
       "    .dataframe thead th {\n",
       "        text-align: right;\n",
       "    }\n",
       "</style>\n",
       "<table border=\"1\" class=\"dataframe\">\n",
       "  <thead>\n",
       "    <tr style=\"text-align: right;\">\n",
       "      <th></th>\n",
       "      <th>gender</th>\n",
       "      <th>age</th>\n",
       "      <th>hypertension</th>\n",
       "      <th>heart_disease</th>\n",
       "      <th>ever_married</th>\n",
       "      <th>work_type</th>\n",
       "      <th>Residence_type</th>\n",
       "      <th>avg_glucose_level</th>\n",
       "      <th>bmi</th>\n",
       "      <th>smoking_status</th>\n",
       "      <th>stroke</th>\n",
       "    </tr>\n",
       "  </thead>\n",
       "  <tbody>\n",
       "    <tr>\n",
       "      <th>0</th>\n",
       "      <td>1.0</td>\n",
       "      <td>67.0</td>\n",
       "      <td>0</td>\n",
       "      <td>1</td>\n",
       "      <td>1</td>\n",
       "      <td>3</td>\n",
       "      <td>1</td>\n",
       "      <td>228.69</td>\n",
       "      <td>36.6</td>\n",
       "      <td>0</td>\n",
       "      <td>1</td>\n",
       "    </tr>\n",
       "  </tbody>\n",
       "</table>\n",
       "</div>"
      ],
      "text/plain": [
       "   gender   age  hypertension  heart_disease  ever_married  work_type  \\\n",
       "0     1.0  67.0             0              1             1          3   \n",
       "\n",
       "   Residence_type  avg_glucose_level   bmi  smoking_status  stroke  \n",
       "0               1             228.69  36.6               0       1  "
      ]
     },
     "execution_count": 768,
     "metadata": {},
     "output_type": "execute_result"
    }
   ],
   "source": [
    "df.head(1)"
   ]
  },
  {
   "cell_type": "code",
   "execution_count": 769,
   "id": "3029dda2",
   "metadata": {},
   "outputs": [
    {
     "data": {
      "text/html": [
       "<style type=\"text/css\">\n",
       "#T_fb7cf_row0_col0, #T_fb7cf_row1_col1, #T_fb7cf_row2_col2, #T_fb7cf_row3_col3, #T_fb7cf_row4_col4, #T_fb7cf_row5_col5, #T_fb7cf_row6_col6, #T_fb7cf_row7_col7, #T_fb7cf_row8_col8, #T_fb7cf_row9_col9, #T_fb7cf_row10_col10 {\n",
       "  background-color: #b40426;\n",
       "  color: #f1f1f1;\n",
       "}\n",
       "#T_fb7cf_row0_col1, #T_fb7cf_row1_col0 {\n",
       "  background-color: #89acfd;\n",
       "  color: #000000;\n",
       "}\n",
       "#T_fb7cf_row0_col2, #T_fb7cf_row2_col0 {\n",
       "  background-color: #94b6ff;\n",
       "  color: #000000;\n",
       "}\n",
       "#T_fb7cf_row0_col3, #T_fb7cf_row3_col0, #T_fb7cf_row5_col7, #T_fb7cf_row7_col5 {\n",
       "  background-color: #a5c3fe;\n",
       "  color: #000000;\n",
       "}\n",
       "#T_fb7cf_row0_col4, #T_fb7cf_row4_col0 {\n",
       "  background-color: #88abfd;\n",
       "  color: #000000;\n",
       "}\n",
       "#T_fb7cf_row0_col5, #T_fb7cf_row5_col0, #T_fb7cf_row9_col10, #T_fb7cf_row10_col9 {\n",
       "  background-color: #7da0f9;\n",
       "  color: #f1f1f1;\n",
       "}\n",
       "#T_fb7cf_row0_col6, #T_fb7cf_row2_col6, #T_fb7cf_row6_col0, #T_fb7cf_row6_col2 {\n",
       "  background-color: #8caffe;\n",
       "  color: #000000;\n",
       "}\n",
       "#T_fb7cf_row0_col7, #T_fb7cf_row7_col0 {\n",
       "  background-color: #9dbdff;\n",
       "  color: #000000;\n",
       "}\n",
       "#T_fb7cf_row0_col8, #T_fb7cf_row8_col0 {\n",
       "  background-color: #86a9fc;\n",
       "  color: #f1f1f1;\n",
       "}\n",
       "#T_fb7cf_row0_col9, #T_fb7cf_row3_col8, #T_fb7cf_row8_col3, #T_fb7cf_row8_col10, #T_fb7cf_row9_col0, #T_fb7cf_row10_col8 {\n",
       "  background-color: #97b8ff;\n",
       "  color: #000000;\n",
       "}\n",
       "#T_fb7cf_row0_col10, #T_fb7cf_row1_col6, #T_fb7cf_row6_col1, #T_fb7cf_row6_col10, #T_fb7cf_row10_col0, #T_fb7cf_row10_col6 {\n",
       "  background-color: #92b4fe;\n",
       "  color: #000000;\n",
       "}\n",
       "#T_fb7cf_row1_col2, #T_fb7cf_row2_col1 {\n",
       "  background-color: #d2dbe8;\n",
       "  color: #000000;\n",
       "}\n",
       "#T_fb7cf_row1_col3, #T_fb7cf_row3_col1 {\n",
       "  background-color: #cfdaea;\n",
       "  color: #000000;\n",
       "}\n",
       "#T_fb7cf_row1_col4, #T_fb7cf_row4_col1 {\n",
       "  background-color: #f49a7b;\n",
       "  color: #000000;\n",
       "}\n",
       "#T_fb7cf_row1_col5, #T_fb7cf_row5_col1 {\n",
       "  background-color: #f4c5ad;\n",
       "  color: #000000;\n",
       "}\n",
       "#T_fb7cf_row1_col7, #T_fb7cf_row7_col1 {\n",
       "  background-color: #cad8ef;\n",
       "  color: #000000;\n",
       "}\n",
       "#T_fb7cf_row1_col8, #T_fb7cf_row8_col1 {\n",
       "  background-color: #d6dce4;\n",
       "  color: #000000;\n",
       "}\n",
       "#T_fb7cf_row1_col9, #T_fb7cf_row9_col1 {\n",
       "  background-color: #3b4cc0;\n",
       "  color: #f1f1f1;\n",
       "}\n",
       "#T_fb7cf_row1_col10, #T_fb7cf_row10_col1 {\n",
       "  background-color: #ccd9ed;\n",
       "  color: #000000;\n",
       "}\n",
       "#T_fb7cf_row2_col3, #T_fb7cf_row3_col2, #T_fb7cf_row3_col4, #T_fb7cf_row4_col3, #T_fb7cf_row4_col10, #T_fb7cf_row10_col4 {\n",
       "  background-color: #aac7fd;\n",
       "  color: #000000;\n",
       "}\n",
       "#T_fb7cf_row2_col4, #T_fb7cf_row3_col7, #T_fb7cf_row4_col2, #T_fb7cf_row7_col3 {\n",
       "  background-color: #b7cff9;\n",
       "  color: #000000;\n",
       "}\n",
       "#T_fb7cf_row2_col5, #T_fb7cf_row5_col2 {\n",
       "  background-color: #adc9fd;\n",
       "  color: #000000;\n",
       "}\n",
       "#T_fb7cf_row2_col7, #T_fb7cf_row7_col2, #T_fb7cf_row7_col8, #T_fb7cf_row8_col7 {\n",
       "  background-color: #bbd1f8;\n",
       "  color: #000000;\n",
       "}\n",
       "#T_fb7cf_row2_col8, #T_fb7cf_row8_col2 {\n",
       "  background-color: #b3cdfb;\n",
       "  color: #000000;\n",
       "}\n",
       "#T_fb7cf_row2_col9, #T_fb7cf_row9_col2 {\n",
       "  background-color: #6e90f2;\n",
       "  color: #f1f1f1;\n",
       "}\n",
       "#T_fb7cf_row2_col10, #T_fb7cf_row10_col2 {\n",
       "  background-color: #afcafc;\n",
       "  color: #000000;\n",
       "}\n",
       "#T_fb7cf_row3_col5, #T_fb7cf_row5_col3 {\n",
       "  background-color: #a6c4fe;\n",
       "  color: #000000;\n",
       "}\n",
       "#T_fb7cf_row3_col6, #T_fb7cf_row6_col3, #T_fb7cf_row6_col8, #T_fb7cf_row6_col9, #T_fb7cf_row8_col6, #T_fb7cf_row9_col6 {\n",
       "  background-color: #8fb1fe;\n",
       "  color: #000000;\n",
       "}\n",
       "#T_fb7cf_row3_col9, #T_fb7cf_row9_col3 {\n",
       "  background-color: #7ea1fa;\n",
       "  color: #f1f1f1;\n",
       "}\n",
       "#T_fb7cf_row3_col10, #T_fb7cf_row7_col10, #T_fb7cf_row10_col3, #T_fb7cf_row10_col7 {\n",
       "  background-color: #b1cbfc;\n",
       "  color: #000000;\n",
       "}\n",
       "#T_fb7cf_row4_col5, #T_fb7cf_row5_col4 {\n",
       "  background-color: #e8d6cc;\n",
       "  color: #000000;\n",
       "}\n",
       "#T_fb7cf_row4_col6, #T_fb7cf_row6_col4 {\n",
       "  background-color: #90b2fe;\n",
       "  color: #000000;\n",
       "}\n",
       "#T_fb7cf_row4_col7, #T_fb7cf_row7_col4 {\n",
       "  background-color: #b5cdfa;\n",
       "  color: #000000;\n",
       "}\n",
       "#T_fb7cf_row4_col8, #T_fb7cf_row8_col4 {\n",
       "  background-color: #dadce0;\n",
       "  color: #000000;\n",
       "}\n",
       "#T_fb7cf_row4_col9, #T_fb7cf_row9_col4 {\n",
       "  background-color: #4961d2;\n",
       "  color: #f1f1f1;\n",
       "}\n",
       "#T_fb7cf_row5_col6, #T_fb7cf_row6_col5, #T_fb7cf_row6_col7, #T_fb7cf_row7_col6 {\n",
       "  background-color: #8db0fe;\n",
       "  color: #000000;\n",
       "}\n",
       "#T_fb7cf_row5_col8, #T_fb7cf_row8_col5 {\n",
       "  background-color: #d7dce3;\n",
       "  color: #000000;\n",
       "}\n",
       "#T_fb7cf_row5_col9, #T_fb7cf_row9_col5 {\n",
       "  background-color: #4358cb;\n",
       "  color: #f1f1f1;\n",
       "}\n",
       "#T_fb7cf_row5_col10, #T_fb7cf_row10_col5 {\n",
       "  background-color: #a3c2fe;\n",
       "  color: #000000;\n",
       "}\n",
       "#T_fb7cf_row7_col9, #T_fb7cf_row9_col7 {\n",
       "  background-color: #7699f6;\n",
       "  color: #f1f1f1;\n",
       "}\n",
       "#T_fb7cf_row8_col9, #T_fb7cf_row9_col8 {\n",
       "  background-color: #5977e3;\n",
       "  color: #f1f1f1;\n",
       "}\n",
       "</style>\n",
       "<table id=\"T_fb7cf\">\n",
       "  <thead>\n",
       "    <tr>\n",
       "      <th class=\"blank level0\" >&nbsp;</th>\n",
       "      <th id=\"T_fb7cf_level0_col0\" class=\"col_heading level0 col0\" >gender</th>\n",
       "      <th id=\"T_fb7cf_level0_col1\" class=\"col_heading level0 col1\" >age</th>\n",
       "      <th id=\"T_fb7cf_level0_col2\" class=\"col_heading level0 col2\" >hypertension</th>\n",
       "      <th id=\"T_fb7cf_level0_col3\" class=\"col_heading level0 col3\" >heart_disease</th>\n",
       "      <th id=\"T_fb7cf_level0_col4\" class=\"col_heading level0 col4\" >ever_married</th>\n",
       "      <th id=\"T_fb7cf_level0_col5\" class=\"col_heading level0 col5\" >work_type</th>\n",
       "      <th id=\"T_fb7cf_level0_col6\" class=\"col_heading level0 col6\" >Residence_type</th>\n",
       "      <th id=\"T_fb7cf_level0_col7\" class=\"col_heading level0 col7\" >avg_glucose_level</th>\n",
       "      <th id=\"T_fb7cf_level0_col8\" class=\"col_heading level0 col8\" >bmi</th>\n",
       "      <th id=\"T_fb7cf_level0_col9\" class=\"col_heading level0 col9\" >smoking_status</th>\n",
       "      <th id=\"T_fb7cf_level0_col10\" class=\"col_heading level0 col10\" >stroke</th>\n",
       "    </tr>\n",
       "  </thead>\n",
       "  <tbody>\n",
       "    <tr>\n",
       "      <th id=\"T_fb7cf_level0_row0\" class=\"row_heading level0 row0\" >gender</th>\n",
       "      <td id=\"T_fb7cf_row0_col0\" class=\"data row0 col0\" >1.000000</td>\n",
       "      <td id=\"T_fb7cf_row0_col1\" class=\"data row0 col1\" >-0.019985</td>\n",
       "      <td id=\"T_fb7cf_row0_col2\" class=\"data row0 col2\" >0.021606</td>\n",
       "      <td id=\"T_fb7cf_row0_col3\" class=\"data row0 col3\" >0.088023</td>\n",
       "      <td id=\"T_fb7cf_row0_col4\" class=\"data row0 col4\" >-0.024695</td>\n",
       "      <td id=\"T_fb7cf_row0_col5\" class=\"data row0 col5\" >-0.066025</td>\n",
       "      <td id=\"T_fb7cf_row0_col6\" class=\"data row0 col6\" >-0.007394</td>\n",
       "      <td id=\"T_fb7cf_row0_col7\" class=\"data row0 col7\" >0.055802</td>\n",
       "      <td id=\"T_fb7cf_row0_col8\" class=\"data row0 col8\" >-0.028672</td>\n",
       "      <td id=\"T_fb7cf_row0_col9\" class=\"data row0 col9\" >0.034039</td>\n",
       "      <td id=\"T_fb7cf_row0_col10\" class=\"data row0 col10\" >0.011919</td>\n",
       "    </tr>\n",
       "    <tr>\n",
       "      <th id=\"T_fb7cf_level0_row1\" class=\"row_heading level0 row1\" >age</th>\n",
       "      <td id=\"T_fb7cf_row1_col0\" class=\"data row1 col0\" >-0.019985</td>\n",
       "      <td id=\"T_fb7cf_row1_col1\" class=\"data row1 col1\" >1.000000</td>\n",
       "      <td id=\"T_fb7cf_row1_col2\" class=\"data row1 col2\" >0.275215</td>\n",
       "      <td id=\"T_fb7cf_row1_col3\" class=\"data row1 col3\" >0.264453</td>\n",
       "      <td id=\"T_fb7cf_row1_col4\" class=\"data row1 col4\" >0.660746</td>\n",
       "      <td id=\"T_fb7cf_row1_col5\" class=\"data row1 col5\" >0.495555</td>\n",
       "      <td id=\"T_fb7cf_row1_col6\" class=\"data row1 col6\" >0.014849</td>\n",
       "      <td id=\"T_fb7cf_row1_col7\" class=\"data row1 col7\" >0.238210</td>\n",
       "      <td id=\"T_fb7cf_row1_col8\" class=\"data row1 col8\" >0.295588</td>\n",
       "      <td id=\"T_fb7cf_row1_col9\" class=\"data row1 col9\" >-0.340165</td>\n",
       "      <td id=\"T_fb7cf_row1_col10\" class=\"data row1 col10\" >0.249681</td>\n",
       "    </tr>\n",
       "    <tr>\n",
       "      <th id=\"T_fb7cf_level0_row2\" class=\"row_heading level0 row2\" >hypertension</th>\n",
       "      <td id=\"T_fb7cf_row2_col0\" class=\"data row2 col0\" >0.021606</td>\n",
       "      <td id=\"T_fb7cf_row2_col1\" class=\"data row2 col1\" >0.275215</td>\n",
       "      <td id=\"T_fb7cf_row2_col2\" class=\"data row2 col2\" >1.000000</td>\n",
       "      <td id=\"T_fb7cf_row2_col3\" class=\"data row2 col3\" >0.107173</td>\n",
       "      <td id=\"T_fb7cf_row2_col4\" class=\"data row2 col4\" >0.158186</td>\n",
       "      <td id=\"T_fb7cf_row2_col5\" class=\"data row2 col5\" >0.119073</td>\n",
       "      <td id=\"T_fb7cf_row2_col6\" class=\"data row2 col6\" >-0.006796</td>\n",
       "      <td id=\"T_fb7cf_row2_col7\" class=\"data row2 col7\" >0.175303</td>\n",
       "      <td id=\"T_fb7cf_row2_col8\" class=\"data row2 col8\" >0.145995</td>\n",
       "      <td id=\"T_fb7cf_row2_col9\" class=\"data row2 col9\" >-0.122415</td>\n",
       "      <td id=\"T_fb7cf_row2_col10\" class=\"data row2 col10\" >0.128016</td>\n",
       "    </tr>\n",
       "    <tr>\n",
       "      <th id=\"T_fb7cf_level0_row3\" class=\"row_heading level0 row3\" >heart_disease</th>\n",
       "      <td id=\"T_fb7cf_row3_col0\" class=\"data row3 col0\" >0.088023</td>\n",
       "      <td id=\"T_fb7cf_row3_col1\" class=\"data row3 col1\" >0.264453</td>\n",
       "      <td id=\"T_fb7cf_row3_col2\" class=\"data row3 col2\" >0.107173</td>\n",
       "      <td id=\"T_fb7cf_row3_col3\" class=\"data row3 col3\" >1.000000</td>\n",
       "      <td id=\"T_fb7cf_row3_col4\" class=\"data row3 col4\" >0.109496</td>\n",
       "      <td id=\"T_fb7cf_row3_col5\" class=\"data row3 col5\" >0.091776</td>\n",
       "      <td id=\"T_fb7cf_row3_col6\" class=\"data row3 col6\" >0.003039</td>\n",
       "      <td id=\"T_fb7cf_row3_col7\" class=\"data row3 col7\" >0.161368</td>\n",
       "      <td id=\"T_fb7cf_row3_col8\" class=\"data row3 col8\" >0.033520</td>\n",
       "      <td id=\"T_fb7cf_row3_col9\" class=\"data row3 col9\" >-0.058649</td>\n",
       "      <td id=\"T_fb7cf_row3_col10\" class=\"data row3 col10\" >0.134766</td>\n",
       "    </tr>\n",
       "    <tr>\n",
       "      <th id=\"T_fb7cf_level0_row4\" class=\"row_heading level0 row4\" >ever_married</th>\n",
       "      <td id=\"T_fb7cf_row4_col0\" class=\"data row4 col0\" >-0.024695</td>\n",
       "      <td id=\"T_fb7cf_row4_col1\" class=\"data row4 col1\" >0.660746</td>\n",
       "      <td id=\"T_fb7cf_row4_col2\" class=\"data row4 col2\" >0.158186</td>\n",
       "      <td id=\"T_fb7cf_row4_col3\" class=\"data row4 col3\" >0.109496</td>\n",
       "      <td id=\"T_fb7cf_row4_col4\" class=\"data row4 col4\" >1.000000</td>\n",
       "      <td id=\"T_fb7cf_row4_col5\" class=\"data row4 col5\" >0.389051</td>\n",
       "      <td id=\"T_fb7cf_row4_col6\" class=\"data row4 col6\" >0.006372</td>\n",
       "      <td id=\"T_fb7cf_row4_col7\" class=\"data row4 col7\" >0.151152</td>\n",
       "      <td id=\"T_fb7cf_row4_col8\" class=\"data row4 col8\" >0.314269</td>\n",
       "      <td id=\"T_fb7cf_row4_col9\" class=\"data row4 col9\" >-0.273208</td>\n",
       "      <td id=\"T_fb7cf_row4_col10\" class=\"data row4 col10\" >0.106488</td>\n",
       "    </tr>\n",
       "    <tr>\n",
       "      <th id=\"T_fb7cf_level0_row5\" class=\"row_heading level0 row5\" >work_type</th>\n",
       "      <td id=\"T_fb7cf_row5_col0\" class=\"data row5 col0\" >-0.066025</td>\n",
       "      <td id=\"T_fb7cf_row5_col1\" class=\"data row5 col1\" >0.495555</td>\n",
       "      <td id=\"T_fb7cf_row5_col2\" class=\"data row5 col2\" >0.119073</td>\n",
       "      <td id=\"T_fb7cf_row5_col3\" class=\"data row5 col3\" >0.091776</td>\n",
       "      <td id=\"T_fb7cf_row5_col4\" class=\"data row5 col4\" >0.389051</td>\n",
       "      <td id=\"T_fb7cf_row5_col5\" class=\"data row5 col5\" >1.000000</td>\n",
       "      <td id=\"T_fb7cf_row5_col6\" class=\"data row5 col6\" >-0.003143</td>\n",
       "      <td id=\"T_fb7cf_row5_col7\" class=\"data row5 col7\" >0.086513</td>\n",
       "      <td id=\"T_fb7cf_row5_col8\" class=\"data row5 col8\" >0.300491</td>\n",
       "      <td id=\"T_fb7cf_row5_col9\" class=\"data row5 col9\" >-0.299048</td>\n",
       "      <td id=\"T_fb7cf_row5_col10\" class=\"data row5 col10\" >0.081790</td>\n",
       "    </tr>\n",
       "    <tr>\n",
       "      <th id=\"T_fb7cf_level0_row6\" class=\"row_heading level0 row6\" >Residence_type</th>\n",
       "      <td id=\"T_fb7cf_row6_col0\" class=\"data row6 col0\" >-0.007394</td>\n",
       "      <td id=\"T_fb7cf_row6_col1\" class=\"data row6 col1\" >0.014849</td>\n",
       "      <td id=\"T_fb7cf_row6_col2\" class=\"data row6 col2\" >-0.006796</td>\n",
       "      <td id=\"T_fb7cf_row6_col3\" class=\"data row6 col3\" >0.003039</td>\n",
       "      <td id=\"T_fb7cf_row6_col4\" class=\"data row6 col4\" >0.006372</td>\n",
       "      <td id=\"T_fb7cf_row6_col5\" class=\"data row6 col5\" >-0.003143</td>\n",
       "      <td id=\"T_fb7cf_row6_col6\" class=\"data row6 col6\" >1.000000</td>\n",
       "      <td id=\"T_fb7cf_row6_col7\" class=\"data row6 col7\" >-0.004881</td>\n",
       "      <td id=\"T_fb7cf_row6_col8\" class=\"data row6 col8\" >0.003348</td>\n",
       "      <td id=\"T_fb7cf_row6_col9\" class=\"data row6 col9\" >0.004937</td>\n",
       "      <td id=\"T_fb7cf_row6_col10\" class=\"data row6 col10\" >0.015652</td>\n",
       "    </tr>\n",
       "    <tr>\n",
       "      <th id=\"T_fb7cf_level0_row7\" class=\"row_heading level0 row7\" >avg_glucose_level</th>\n",
       "      <td id=\"T_fb7cf_row7_col0\" class=\"data row7 col0\" >0.055802</td>\n",
       "      <td id=\"T_fb7cf_row7_col1\" class=\"data row7 col1\" >0.238210</td>\n",
       "      <td id=\"T_fb7cf_row7_col2\" class=\"data row7 col2\" >0.175303</td>\n",
       "      <td id=\"T_fb7cf_row7_col3\" class=\"data row7 col3\" >0.161368</td>\n",
       "      <td id=\"T_fb7cf_row7_col4\" class=\"data row7 col4\" >0.151152</td>\n",
       "      <td id=\"T_fb7cf_row7_col5\" class=\"data row7 col5\" >0.086513</td>\n",
       "      <td id=\"T_fb7cf_row7_col6\" class=\"data row7 col6\" >-0.004881</td>\n",
       "      <td id=\"T_fb7cf_row7_col7\" class=\"data row7 col7\" >1.000000</td>\n",
       "      <td id=\"T_fb7cf_row7_col8\" class=\"data row7 col8\" >0.172993</td>\n",
       "      <td id=\"T_fb7cf_row7_col9\" class=\"data row7 col9\" >-0.092391</td>\n",
       "      <td id=\"T_fb7cf_row7_col10\" class=\"data row7 col10\" >0.133557</td>\n",
       "    </tr>\n",
       "    <tr>\n",
       "      <th id=\"T_fb7cf_level0_row8\" class=\"row_heading level0 row8\" >bmi</th>\n",
       "      <td id=\"T_fb7cf_row8_col0\" class=\"data row8 col0\" >-0.028672</td>\n",
       "      <td id=\"T_fb7cf_row8_col1\" class=\"data row8 col1\" >0.295588</td>\n",
       "      <td id=\"T_fb7cf_row8_col2\" class=\"data row8 col2\" >0.145995</td>\n",
       "      <td id=\"T_fb7cf_row8_col3\" class=\"data row8 col3\" >0.033520</td>\n",
       "      <td id=\"T_fb7cf_row8_col4\" class=\"data row8 col4\" >0.314269</td>\n",
       "      <td id=\"T_fb7cf_row8_col5\" class=\"data row8 col5\" >0.300491</td>\n",
       "      <td id=\"T_fb7cf_row8_col6\" class=\"data row8 col6\" >0.003348</td>\n",
       "      <td id=\"T_fb7cf_row8_col7\" class=\"data row8 col7\" >0.172993</td>\n",
       "      <td id=\"T_fb7cf_row8_col8\" class=\"data row8 col8\" >1.000000</td>\n",
       "      <td id=\"T_fb7cf_row8_col9\" class=\"data row8 col9\" >-0.205106</td>\n",
       "      <td id=\"T_fb7cf_row8_col10\" class=\"data row8 col10\" >0.034002</td>\n",
       "    </tr>\n",
       "    <tr>\n",
       "      <th id=\"T_fb7cf_level0_row9\" class=\"row_heading level0 row9\" >smoking_status</th>\n",
       "      <td id=\"T_fb7cf_row9_col0\" class=\"data row9 col0\" >0.034039</td>\n",
       "      <td id=\"T_fb7cf_row9_col1\" class=\"data row9 col1\" >-0.340165</td>\n",
       "      <td id=\"T_fb7cf_row9_col2\" class=\"data row9 col2\" >-0.122415</td>\n",
       "      <td id=\"T_fb7cf_row9_col3\" class=\"data row9 col3\" >-0.058649</td>\n",
       "      <td id=\"T_fb7cf_row9_col4\" class=\"data row9 col4\" >-0.273208</td>\n",
       "      <td id=\"T_fb7cf_row9_col5\" class=\"data row9 col5\" >-0.299048</td>\n",
       "      <td id=\"T_fb7cf_row9_col6\" class=\"data row9 col6\" >0.004937</td>\n",
       "      <td id=\"T_fb7cf_row9_col7\" class=\"data row9 col7\" >-0.092391</td>\n",
       "      <td id=\"T_fb7cf_row9_col8\" class=\"data row9 col8\" >-0.205106</td>\n",
       "      <td id=\"T_fb7cf_row9_col9\" class=\"data row9 col9\" >1.000000</td>\n",
       "      <td id=\"T_fb7cf_row9_col10\" class=\"data row9 col10\" >-0.063494</td>\n",
       "    </tr>\n",
       "    <tr>\n",
       "      <th id=\"T_fb7cf_level0_row10\" class=\"row_heading level0 row10\" >stroke</th>\n",
       "      <td id=\"T_fb7cf_row10_col0\" class=\"data row10 col0\" >0.011919</td>\n",
       "      <td id=\"T_fb7cf_row10_col1\" class=\"data row10 col1\" >0.249681</td>\n",
       "      <td id=\"T_fb7cf_row10_col2\" class=\"data row10 col2\" >0.128016</td>\n",
       "      <td id=\"T_fb7cf_row10_col3\" class=\"data row10 col3\" >0.134766</td>\n",
       "      <td id=\"T_fb7cf_row10_col4\" class=\"data row10 col4\" >0.106488</td>\n",
       "      <td id=\"T_fb7cf_row10_col5\" class=\"data row10 col5\" >0.081790</td>\n",
       "      <td id=\"T_fb7cf_row10_col6\" class=\"data row10 col6\" >0.015652</td>\n",
       "      <td id=\"T_fb7cf_row10_col7\" class=\"data row10 col7\" >0.133557</td>\n",
       "      <td id=\"T_fb7cf_row10_col8\" class=\"data row10 col8\" >0.034002</td>\n",
       "      <td id=\"T_fb7cf_row10_col9\" class=\"data row10 col9\" >-0.063494</td>\n",
       "      <td id=\"T_fb7cf_row10_col10\" class=\"data row10 col10\" >1.000000</td>\n",
       "    </tr>\n",
       "  </tbody>\n",
       "</table>\n"
      ],
      "text/plain": [
       "<pandas.io.formats.style.Styler at 0x169895d10>"
      ]
     },
     "execution_count": 769,
     "metadata": {},
     "output_type": "execute_result"
    }
   ],
   "source": [
    "corr = df.corr()\n",
    "corr.style.background_gradient(cmap='coolwarm', axis=None)"
   ]
  },
  {
   "cell_type": "code",
   "execution_count": null,
   "id": "81b5cf6c",
   "metadata": {},
   "outputs": [],
   "source": [
    "df = df.drop(columns=[\"gender\", \"Residence_type\", \"bmi\", ])"
   ]
  },
  {
   "cell_type": "markdown",
   "id": "fb9ee0d9",
   "metadata": {},
   "source": [
    "## Desenvolvimento dos Modelos de Classficação"
   ]
  },
  {
   "cell_type": "code",
   "execution_count": 771,
   "id": "e5b9e81d",
   "metadata": {},
   "outputs": [],
   "source": [
    "from sklearn.model_selection import train_test_split\n",
    "\n",
    "X = df.drop(columns=[\"stroke\"])\n",
    "y = df[\"stroke\"]\n",
    "\n",
    "X_train, X_test, y_train, y_test = train_test_split(X, y, test_size=0.2, random_state=42)"
   ]
  },
  {
   "cell_type": "markdown",
   "id": "d7fd14c6",
   "metadata": {},
   "source": [
    "### Modelos sem SMOTE"
   ]
  },
  {
   "cell_type": "markdown",
   "id": "a03a7e6a",
   "metadata": {},
   "source": [
    "#### KNN"
   ]
  },
  {
   "cell_type": "code",
   "execution_count": 772,
   "id": "1f9c1737",
   "metadata": {},
   "outputs": [
    {
     "name": "stdout",
     "output_type": "stream",
     "text": [
      "Accuracy: 0.94\n"
     ]
    }
   ],
   "source": [
    "from sklearn.neighbors import KNeighborsClassifier\n",
    "from sklearn.metrics import accuracy_score\n",
    "\n",
    "knn = KNeighborsClassifier(n_neighbors=5)\n",
    "knn.fit(X_train, y_train)\n",
    "y_pred = knn.predict(X_test)\n",
    "\n",
    "accuracy = accuracy_score(y_test, y_pred)\n",
    "print(f\"Accuracy: {accuracy:.2f}\")"
   ]
  },
  {
   "cell_type": "markdown",
   "id": "924a709a",
   "metadata": {},
   "source": [
    "#### Logistic Regression"
   ]
  },
  {
   "cell_type": "code",
   "execution_count": 804,
   "id": "320974e0",
   "metadata": {},
   "outputs": [
    {
     "name": "stdout",
     "output_type": "stream",
     "text": [
      "Logistic Regression Accuracy: 0.94\n",
      "Confusion Matrix: \n",
      "[[939   0]\n",
      " [ 60   0]]\n",
      "Recall: 0.00\n"
     ]
    }
   ],
   "source": [
    "from sklearn.linear_model import LogisticRegression\n",
    "from sklearn.metrics import confusion_matrix\n",
    "\n",
    "log_reg = LogisticRegression(max_iter=1000)\n",
    "log_reg.fit(X_train, y_train)\n",
    "y_pred_log_reg = log_reg.predict(X_test)\n",
    "\n",
    "accuracy_log_reg = accuracy_score(y_test, y_pred_log_reg)\n",
    "print(f\"Logistic Regression Accuracy: {accuracy_log_reg:.2f}\")\n",
    "\n",
    "confusion = confusion_matrix(y_test, y_pred_log_reg)\n",
    "print(f\"Confusion Matrix: \\n{confusion}\")\n",
    "recall = confusion[1][1] / (confusion[1][1] + confusion[1][0])\n",
    "print(f\"Recall: {recall:.2f}\")"
   ]
  },
  {
   "cell_type": "markdown",
   "id": "c9aff5ab",
   "metadata": {},
   "source": [
    "### Desbalanceamento de Classes -- SMOTE"
   ]
  },
  {
   "cell_type": "markdown",
   "id": "6f510305",
   "metadata": {},
   "source": [
    "#### OverSampling"
   ]
  },
  {
   "cell_type": "code",
   "execution_count": 774,
   "id": "87a770a3",
   "metadata": {},
   "outputs": [
    {
     "data": {
      "text/plain": [
       "stroke\n",
       "0    3806\n",
       "1     187\n",
       "Name: count, dtype: int64"
      ]
     },
     "execution_count": 774,
     "metadata": {},
     "output_type": "execute_result"
    }
   ],
   "source": [
    "y_train.value_counts()"
   ]
  },
  {
   "cell_type": "code",
   "execution_count": 775,
   "id": "ba97bf83",
   "metadata": {},
   "outputs": [
    {
     "data": {
      "text/plain": [
       "stroke\n",
       "1    3806\n",
       "0    3806\n",
       "Name: count, dtype: int64"
      ]
     },
     "execution_count": 775,
     "metadata": {},
     "output_type": "execute_result"
    }
   ],
   "source": [
    "from imblearn.over_sampling import SMOTE\n",
    "\n",
    "smote = SMOTE(random_state=42)\n",
    "X_train_resampled, y_train_resampled = smote.fit_resample(X_train, y_train)\n",
    "y_train_resampled.value_counts()"
   ]
  },
  {
   "cell_type": "markdown",
   "id": "00bd2b94",
   "metadata": {},
   "source": [
    "##### Logistic Regression"
   ]
  },
  {
   "cell_type": "code",
   "execution_count": 805,
   "id": "7c5ac9d5",
   "metadata": {},
   "outputs": [
    {
     "name": "stdout",
     "output_type": "stream",
     "text": [
      "Logistic Regression with SMOTE Accuracy: 0.78\n",
      "Confusion Matrix with SMOTE: \n",
      "[[738 201]\n",
      " [ 14  46]]\n",
      "Recall with SMOTE: 0.77\n"
     ]
    }
   ],
   "source": [
    "log_reg_resampled = LogisticRegression(max_iter=1000)\n",
    "log_reg_resampled.fit(X_train_resampled, y_train_resampled)\n",
    "y_pred_log_reg_resampled = log_reg_resampled.predict(X_test)\n",
    "\n",
    "accuracy_log_reg_resampled = accuracy_score(y_test, y_pred_log_reg_resampled)\n",
    "print(f\"Logistic Regression with SMOTE Accuracy: {accuracy_log_reg_resampled:.2f}\")\n",
    "\n",
    "confusion_resampled = confusion_matrix(y_test, y_pred_log_reg_resampled)\n",
    "print(f\"Confusion Matrix with SMOTE: \\n{confusion_resampled}\")\n",
    "recall_resampled = confusion_resampled[1][1] / (confusion_resampled[1][1] + confusion_resampled[1][0])\n",
    "print(f\"Recall with SMOTE: {recall_resampled:.2f}\")"
   ]
  },
  {
   "cell_type": "markdown",
   "id": "ab64ae9c",
   "metadata": {},
   "source": [
    "##### KNN"
   ]
  },
  {
   "cell_type": "code",
   "execution_count": 806,
   "id": "6d530bc1",
   "metadata": {},
   "outputs": [
    {
     "name": "stdout",
     "output_type": "stream",
     "text": [
      "KNN with SMOTE Accuracy: 0.79\n",
      "Confusion Matrix with SMOTE: \n",
      "[[761 178]\n",
      " [ 27  33]]\n",
      "Recall with SMOTE: 0.55\n"
     ]
    }
   ],
   "source": [
    "knn_oversampled = KNeighborsClassifier()\n",
    "\n",
    "knn_oversampled.fit(X_train_resampled, y_train_resampled)\n",
    "y_pred_oversampled = knn_oversampled.predict(X_test)\n",
    "\n",
    "accuracy_oversampled = accuracy_score(y_test, y_pred_oversampled)\n",
    "print(f\"KNN with SMOTE Accuracy: {accuracy_oversampled:.2f}\")\n",
    "\n",
    "confusion_oversampled = confusion_matrix(y_test, y_pred_oversampled)\n",
    "print(f\"Confusion Matrix with SMOTE: \\n{confusion_oversampled}\")\n",
    "\n",
    "recall_oversampled = confusion_oversampled[1][1] / (confusion_oversampled[1][1] + confusion_oversampled[1][0])\n",
    "print(f\"Recall with SMOTE: {recall_oversampled:.2f}\")"
   ]
  },
  {
   "cell_type": "markdown",
   "id": "540bff15",
   "metadata": {},
   "source": [
    "#### UnderSampling "
   ]
  },
  {
   "cell_type": "code",
   "execution_count": 807,
   "id": "3744ae7f",
   "metadata": {},
   "outputs": [
    {
     "data": {
      "text/plain": [
       "stroke\n",
       "0    187\n",
       "1    187\n",
       "Name: count, dtype: int64"
      ]
     },
     "execution_count": 807,
     "metadata": {},
     "output_type": "execute_result"
    }
   ],
   "source": [
    "from imblearn.under_sampling import RandomUnderSampler\n",
    "\n",
    "rus = RandomUnderSampler(random_state=42)\n",
    "X_train_under, y_train_under = rus.fit_resample(X_train, y_train)\n",
    "y_train_under.value_counts()"
   ]
  },
  {
   "cell_type": "markdown",
   "id": "26585d18",
   "metadata": {},
   "source": [
    "##### Logistic Regression"
   ]
  },
  {
   "cell_type": "code",
   "execution_count": 808,
   "id": "f768bcd8",
   "metadata": {},
   "outputs": [
    {
     "name": "stdout",
     "output_type": "stream",
     "text": [
      "Logistic Regression with Random Under Sampling Accuracy: 0.73\n",
      "Confusion Matrix with Random Under Sampling: \n",
      "[[684 255]\n",
      " [ 14  46]]\n",
      "Recall with Random Under Sampling: 0.77\n"
     ]
    }
   ],
   "source": [
    "log_reg_under = LogisticRegression(max_iter=1000)\n",
    "log_reg_under.fit(X_train_under, y_train_under)\n",
    "y_pred_log_reg_under = log_reg_under.predict(X_test)\n",
    "\n",
    "accuracy_log_reg_under = accuracy_score(y_test, y_pred_log_reg_under)\n",
    "print(f\"Logistic Regression with Random Under Sampling Accuracy: {accuracy_log_reg_under:.2f}\")\n",
    "\n",
    "confusion_under = confusion_matrix(y_test, y_pred_log_reg_under)\n",
    "print(f\"Confusion Matrix with Random Under Sampling: \\n{confusion_under}\")\n",
    "\n",
    "recall_under = confusion_under[1][1] / (confusion_under[1][1] + confusion_under[1][0])\n",
    "print(f\"Recall with Random Under Sampling: {recall_under:.2f}\")"
   ]
  },
  {
   "cell_type": "markdown",
   "id": "6f4af981",
   "metadata": {},
   "source": [
    "##### KNN"
   ]
  },
  {
   "cell_type": "code",
   "execution_count": 809,
   "id": "07bcac8c",
   "metadata": {},
   "outputs": [
    {
     "name": "stdout",
     "output_type": "stream",
     "text": [
      "KNN with Random Under Sampling Accuracy: 0.70\n",
      "Confusion Matrix with Random Under Sampling: \n",
      "[[646 293]\n",
      " [ 11  49]]\n",
      "Recall with Random Under Sampling: 0.82\n"
     ]
    }
   ],
   "source": [
    "knn_under = KNeighborsClassifier()\n",
    "knn_under.fit(X_train_under, y_train_under)\n",
    "y_pred_under = knn_under.predict(X_test)\n",
    "\n",
    "accuracy_under = accuracy_score(y_test, y_pred_under)\n",
    "print(f\"KNN with Random Under Sampling Accuracy: {accuracy_under:.2f}\")\n",
    "\n",
    "confusion_under_knn = confusion_matrix(y_test, y_pred_under)\n",
    "print(f\"Confusion Matrix with Random Under Sampling: \\n{confusion_under_knn}\")\n",
    "\n",
    "recall_under_knn = confusion_under_knn[1][1] / (confusion_under_knn[1][1] + confusion_under_knn[1][0])\n",
    "print(f\"Recall with Random Under Sampling: {recall_under_knn:.2f}\")"
   ]
  },
  {
   "cell_type": "markdown",
   "id": "029c3fc5",
   "metadata": {},
   "source": [
    "## Fine Tuning"
   ]
  },
  {
   "cell_type": "markdown",
   "id": "f6d14f10",
   "metadata": {},
   "source": [
    "### Logistic Regression Over"
   ]
  },
  {
   "cell_type": "code",
   "execution_count": 811,
   "id": "2eeb0aee",
   "metadata": {},
   "outputs": [
    {
     "name": "stderr",
     "output_type": "stream",
     "text": [
      "/Library/Frameworks/Python.framework/Versions/3.13/lib/python3.13/site-packages/sklearn/linear_model/_sag.py:348: ConvergenceWarning: The max_iter was reached which means the coef_ did not converge\n",
      "  warnings.warn(\n",
      "/Library/Frameworks/Python.framework/Versions/3.13/lib/python3.13/site-packages/sklearn/linear_model/_sag.py:348: ConvergenceWarning: The max_iter was reached which means the coef_ did not converge\n",
      "  warnings.warn(\n",
      "/Library/Frameworks/Python.framework/Versions/3.13/lib/python3.13/site-packages/sklearn/linear_model/_sag.py:348: ConvergenceWarning: The max_iter was reached which means the coef_ did not converge\n",
      "  warnings.warn(\n",
      "/Library/Frameworks/Python.framework/Versions/3.13/lib/python3.13/site-packages/sklearn/linear_model/_sag.py:348: ConvergenceWarning: The max_iter was reached which means the coef_ did not converge\n",
      "  warnings.warn(\n",
      "/Library/Frameworks/Python.framework/Versions/3.13/lib/python3.13/site-packages/sklearn/linear_model/_sag.py:348: ConvergenceWarning: The max_iter was reached which means the coef_ did not converge\n",
      "  warnings.warn(\n",
      "/Library/Frameworks/Python.framework/Versions/3.13/lib/python3.13/site-packages/sklearn/linear_model/_sag.py:348: ConvergenceWarning: The max_iter was reached which means the coef_ did not converge\n",
      "  warnings.warn(\n",
      "/Library/Frameworks/Python.framework/Versions/3.13/lib/python3.13/site-packages/sklearn/linear_model/_sag.py:348: ConvergenceWarning: The max_iter was reached which means the coef_ did not converge\n",
      "  warnings.warn(\n",
      "/Library/Frameworks/Python.framework/Versions/3.13/lib/python3.13/site-packages/sklearn/linear_model/_sag.py:348: ConvergenceWarning: The max_iter was reached which means the coef_ did not converge\n",
      "  warnings.warn(\n",
      "/Library/Frameworks/Python.framework/Versions/3.13/lib/python3.13/site-packages/sklearn/linear_model/_sag.py:348: ConvergenceWarning: The max_iter was reached which means the coef_ did not converge\n",
      "  warnings.warn(\n",
      "/Library/Frameworks/Python.framework/Versions/3.13/lib/python3.13/site-packages/sklearn/linear_model/_sag.py:348: ConvergenceWarning: The max_iter was reached which means the coef_ did not converge\n",
      "  warnings.warn(\n",
      "/Library/Frameworks/Python.framework/Versions/3.13/lib/python3.13/site-packages/sklearn/linear_model/_sag.py:348: ConvergenceWarning: The max_iter was reached which means the coef_ did not converge\n",
      "  warnings.warn(\n",
      "/Library/Frameworks/Python.framework/Versions/3.13/lib/python3.13/site-packages/sklearn/linear_model/_sag.py:348: ConvergenceWarning: The max_iter was reached which means the coef_ did not converge\n",
      "  warnings.warn(\n",
      "/Library/Frameworks/Python.framework/Versions/3.13/lib/python3.13/site-packages/sklearn/linear_model/_sag.py:348: ConvergenceWarning: The max_iter was reached which means the coef_ did not converge\n",
      "  warnings.warn(\n",
      "/Library/Frameworks/Python.framework/Versions/3.13/lib/python3.13/site-packages/sklearn/linear_model/_sag.py:348: ConvergenceWarning: The max_iter was reached which means the coef_ did not converge\n",
      "  warnings.warn(\n",
      "/Library/Frameworks/Python.framework/Versions/3.13/lib/python3.13/site-packages/sklearn/linear_model/_sag.py:348: ConvergenceWarning: The max_iter was reached which means the coef_ did not converge\n",
      "  warnings.warn(\n",
      "/Library/Frameworks/Python.framework/Versions/3.13/lib/python3.13/site-packages/sklearn/linear_model/_sag.py:348: ConvergenceWarning: The max_iter was reached which means the coef_ did not converge\n",
      "  warnings.warn(\n",
      "/Library/Frameworks/Python.framework/Versions/3.13/lib/python3.13/site-packages/sklearn/linear_model/_sag.py:348: ConvergenceWarning: The max_iter was reached which means the coef_ did not converge\n",
      "  warnings.warn(\n",
      "/Library/Frameworks/Python.framework/Versions/3.13/lib/python3.13/site-packages/sklearn/linear_model/_sag.py:348: ConvergenceWarning: The max_iter was reached which means the coef_ did not converge\n",
      "  warnings.warn(\n",
      "/Library/Frameworks/Python.framework/Versions/3.13/lib/python3.13/site-packages/sklearn/linear_model/_sag.py:348: ConvergenceWarning: The max_iter was reached which means the coef_ did not converge\n",
      "  warnings.warn(\n",
      "/Library/Frameworks/Python.framework/Versions/3.13/lib/python3.13/site-packages/sklearn/linear_model/_sag.py:348: ConvergenceWarning: The max_iter was reached which means the coef_ did not converge\n",
      "  warnings.warn(\n",
      "/Library/Frameworks/Python.framework/Versions/3.13/lib/python3.13/site-packages/sklearn/linear_model/_sag.py:348: ConvergenceWarning: The max_iter was reached which means the coef_ did not converge\n",
      "  warnings.warn(\n",
      "/Library/Frameworks/Python.framework/Versions/3.13/lib/python3.13/site-packages/sklearn/linear_model/_sag.py:348: ConvergenceWarning: The max_iter was reached which means the coef_ did not converge\n",
      "  warnings.warn(\n",
      "/Library/Frameworks/Python.framework/Versions/3.13/lib/python3.13/site-packages/sklearn/linear_model/_sag.py:348: ConvergenceWarning: The max_iter was reached which means the coef_ did not converge\n",
      "  warnings.warn(\n",
      "/Library/Frameworks/Python.framework/Versions/3.13/lib/python3.13/site-packages/sklearn/linear_model/_sag.py:348: ConvergenceWarning: The max_iter was reached which means the coef_ did not converge\n",
      "  warnings.warn(\n",
      "/Library/Frameworks/Python.framework/Versions/3.13/lib/python3.13/site-packages/sklearn/linear_model/_sag.py:348: ConvergenceWarning: The max_iter was reached which means the coef_ did not converge\n",
      "  warnings.warn(\n",
      "/Library/Frameworks/Python.framework/Versions/3.13/lib/python3.13/site-packages/sklearn/linear_model/_sag.py:348: ConvergenceWarning: The max_iter was reached which means the coef_ did not converge\n",
      "  warnings.warn(\n",
      "/Library/Frameworks/Python.framework/Versions/3.13/lib/python3.13/site-packages/sklearn/linear_model/_sag.py:348: ConvergenceWarning: The max_iter was reached which means the coef_ did not converge\n",
      "  warnings.warn(\n",
      "/Library/Frameworks/Python.framework/Versions/3.13/lib/python3.13/site-packages/sklearn/linear_model/_sag.py:348: ConvergenceWarning: The max_iter was reached which means the coef_ did not converge\n",
      "  warnings.warn(\n",
      "/Library/Frameworks/Python.framework/Versions/3.13/lib/python3.13/site-packages/sklearn/linear_model/_sag.py:348: ConvergenceWarning: The max_iter was reached which means the coef_ did not converge\n",
      "  warnings.warn(\n",
      "/Library/Frameworks/Python.framework/Versions/3.13/lib/python3.13/site-packages/sklearn/linear_model/_sag.py:348: ConvergenceWarning: The max_iter was reached which means the coef_ did not converge\n",
      "  warnings.warn(\n",
      "/Library/Frameworks/Python.framework/Versions/3.13/lib/python3.13/site-packages/sklearn/linear_model/_sag.py:348: ConvergenceWarning: The max_iter was reached which means the coef_ did not converge\n",
      "  warnings.warn(\n",
      "/Library/Frameworks/Python.framework/Versions/3.13/lib/python3.13/site-packages/sklearn/linear_model/_sag.py:348: ConvergenceWarning: The max_iter was reached which means the coef_ did not converge\n",
      "  warnings.warn(\n",
      "/Library/Frameworks/Python.framework/Versions/3.13/lib/python3.13/site-packages/sklearn/linear_model/_sag.py:348: ConvergenceWarning: The max_iter was reached which means the coef_ did not converge\n",
      "  warnings.warn(\n",
      "/Library/Frameworks/Python.framework/Versions/3.13/lib/python3.13/site-packages/sklearn/linear_model/_sag.py:348: ConvergenceWarning: The max_iter was reached which means the coef_ did not converge\n",
      "  warnings.warn(\n",
      "/Library/Frameworks/Python.framework/Versions/3.13/lib/python3.13/site-packages/sklearn/linear_model/_sag.py:348: ConvergenceWarning: The max_iter was reached which means the coef_ did not converge\n",
      "  warnings.warn(\n",
      "/Library/Frameworks/Python.framework/Versions/3.13/lib/python3.13/site-packages/sklearn/linear_model/_sag.py:348: ConvergenceWarning: The max_iter was reached which means the coef_ did not converge\n",
      "  warnings.warn(\n",
      "/Library/Frameworks/Python.framework/Versions/3.13/lib/python3.13/site-packages/sklearn/linear_model/_sag.py:348: ConvergenceWarning: The max_iter was reached which means the coef_ did not converge\n",
      "  warnings.warn(\n",
      "/Library/Frameworks/Python.framework/Versions/3.13/lib/python3.13/site-packages/sklearn/linear_model/_sag.py:348: ConvergenceWarning: The max_iter was reached which means the coef_ did not converge\n",
      "  warnings.warn(\n",
      "/Library/Frameworks/Python.framework/Versions/3.13/lib/python3.13/site-packages/sklearn/linear_model/_sag.py:348: ConvergenceWarning: The max_iter was reached which means the coef_ did not converge\n",
      "  warnings.warn(\n",
      "/Library/Frameworks/Python.framework/Versions/3.13/lib/python3.13/site-packages/sklearn/linear_model/_sag.py:348: ConvergenceWarning: The max_iter was reached which means the coef_ did not converge\n",
      "  warnings.warn(\n",
      "/Library/Frameworks/Python.framework/Versions/3.13/lib/python3.13/site-packages/sklearn/linear_model/_sag.py:348: ConvergenceWarning: The max_iter was reached which means the coef_ did not converge\n",
      "  warnings.warn(\n",
      "/Library/Frameworks/Python.framework/Versions/3.13/lib/python3.13/site-packages/sklearn/linear_model/_sag.py:348: ConvergenceWarning: The max_iter was reached which means the coef_ did not converge\n",
      "  warnings.warn(\n",
      "/Library/Frameworks/Python.framework/Versions/3.13/lib/python3.13/site-packages/sklearn/linear_model/_sag.py:348: ConvergenceWarning: The max_iter was reached which means the coef_ did not converge\n",
      "  warnings.warn(\n",
      "/Library/Frameworks/Python.framework/Versions/3.13/lib/python3.13/site-packages/sklearn/linear_model/_sag.py:348: ConvergenceWarning: The max_iter was reached which means the coef_ did not converge\n",
      "  warnings.warn(\n",
      "/Library/Frameworks/Python.framework/Versions/3.13/lib/python3.13/site-packages/sklearn/linear_model/_sag.py:348: ConvergenceWarning: The max_iter was reached which means the coef_ did not converge\n",
      "  warnings.warn(\n",
      "/Library/Frameworks/Python.framework/Versions/3.13/lib/python3.13/site-packages/sklearn/linear_model/_sag.py:348: ConvergenceWarning: The max_iter was reached which means the coef_ did not converge\n",
      "  warnings.warn(\n",
      "/Library/Frameworks/Python.framework/Versions/3.13/lib/python3.13/site-packages/sklearn/linear_model/_sag.py:348: ConvergenceWarning: The max_iter was reached which means the coef_ did not converge\n",
      "  warnings.warn(\n",
      "/Library/Frameworks/Python.framework/Versions/3.13/lib/python3.13/site-packages/sklearn/linear_model/_sag.py:348: ConvergenceWarning: The max_iter was reached which means the coef_ did not converge\n",
      "  warnings.warn(\n",
      "/Library/Frameworks/Python.framework/Versions/3.13/lib/python3.13/site-packages/sklearn/linear_model/_sag.py:348: ConvergenceWarning: The max_iter was reached which means the coef_ did not converge\n",
      "  warnings.warn(\n"
     ]
    },
    {
     "name": "stdout",
     "output_type": "stream",
     "text": [
      "Best parameters: {'C': 0.01, 'penalty': 'l2', 'solver': 'liblinear'}\n",
      "Best Logistic Regression Accuracy: 0.74\n",
      "Confusion Matrix with Best Parameters: \n",
      "[[698 241]\n",
      " [ 16  44]]\n",
      "Recall with Best Parameters: 0.73\n"
     ]
    },
    {
     "name": "stderr",
     "output_type": "stream",
     "text": [
      "/Library/Frameworks/Python.framework/Versions/3.13/lib/python3.13/site-packages/sklearn/linear_model/_sag.py:348: ConvergenceWarning: The max_iter was reached which means the coef_ did not converge\n",
      "  warnings.warn(\n"
     ]
    }
   ],
   "source": [
    "from sklearn.model_selection import GridSearchCV\n",
    "\n",
    "X_train_resampled, y_train_resampled = smote.fit_resample(X_train, y_train)\n",
    "\n",
    "log_reg_oversampled = LogisticRegression(max_iter=1000)\n",
    "param_grid = {\n",
    "    'C': [0.01, 0.1, 1, 10, 100],\n",
    "    'penalty': ['l1', 'l2'],\n",
    "    'solver': ['liblinear', 'saga']\n",
    "}\n",
    "grid_search = GridSearchCV(log_reg_oversampled, param_grid, cv=5, scoring='recall')\n",
    "grid_search.fit(X_train_resampled, y_train_resampled)\n",
    "\n",
    "best_params = grid_search.best_params_\n",
    "print(f\"Best parameters: {best_params}\")\n",
    "\n",
    "best_log_reg = grid_search.best_estimator_\n",
    "y_pred_best_log_reg = best_log_reg.predict(X_test)\n",
    "\n",
    "accuracy_best_log_reg = accuracy_score(y_test, y_pred_best_log_reg)\n",
    "print(f\"Best Logistic Regression Accuracy: {accuracy_best_log_reg:.2f}\")\n",
    "\n",
    "confusion_best_log_reg = confusion_matrix(y_test, y_pred_best_log_reg)\n",
    "print(f\"Confusion Matrix with Best Parameters: \\n{confusion_best_log_reg}\")\n",
    "\n",
    "recall_best_log_reg = confusion_best_log_reg[1][1] / (confusion_best_log_reg[1][1] + confusion_best_log_reg[1][0])\n",
    "print(f\"Recall with Best Parameters: {recall_best_log_reg:.2f}\")"
   ]
  },
  {
   "cell_type": "markdown",
   "id": "24a19412",
   "metadata": {},
   "source": [
    "### KNN UnderSampling"
   ]
  },
  {
   "cell_type": "code",
   "execution_count": 814,
   "id": "ce21f01d",
   "metadata": {},
   "outputs": [
    {
     "name": "stdout",
     "output_type": "stream",
     "text": [
      "Best parameters for KNN: {'metric': 'manhattan', 'n_neighbors': 9, 'weights': 'uniform'}\n",
      "Best KNN Accuracy: 0.70\n",
      "Confusion Matrix with Best Parameters for KNN: \n",
      "[[650 289]\n",
      " [ 15  45]]\n",
      "Recall with Best Parameters for KNN: 0.75\n"
     ]
    }
   ],
   "source": [
    "knn_under = KNeighborsClassifier()\n",
    "\n",
    "param_grid_knn = {\n",
    "    'n_neighbors': [9],\n",
    "    'weights': ['uniform'],\n",
    "    'metric': ['manhattan']\n",
    "}\n",
    "grid_search_knn = GridSearchCV(knn_under, param_grid_knn, cv=5, scoring='recall')\n",
    "grid_search_knn.fit(X_train_under, y_train_under)\n",
    "\n",
    "best_params_knn = grid_search_knn.best_params_\n",
    "print(f\"Best parameters for KNN: {best_params_knn}\")\n",
    "\n",
    "best_knn = grid_search_knn.best_estimator_\n",
    "y_pred_best_knn = best_knn.predict(X_test)\n",
    "\n",
    "accuracy_best_knn = accuracy_score(y_test, y_pred_best_knn)\n",
    "print(f\"Best KNN Accuracy: {accuracy_best_knn:.2f}\")\n",
    "\n",
    "confusion_best_knn = confusion_matrix(y_test, y_pred_best_knn)\n",
    "print(f\"Confusion Matrix with Best Parameters for KNN: \\n{confusion_best_knn}\")\n",
    "\n",
    "recall_best_knn = confusion_best_knn[1][1] / (confusion_best_knn[1][1] + confusion_best_knn[1][0])\n",
    "print(f\"Recall with Best Parameters for KNN: {recall_best_knn:.2f}\")"
   ]
  },
  {
   "cell_type": "markdown",
   "id": "a8fcc30e",
   "metadata": {},
   "source": [
    "## Cross Validation"
   ]
  },
  {
   "cell_type": "code",
   "execution_count": 815,
   "id": "f339d895",
   "metadata": {},
   "outputs": [
    {
     "name": "stdout",
     "output_type": "stream",
     "text": [
      "Cross-validation scores: [0.86486486 0.83783784 0.81578947 0.76315789 0.78378378]\n",
      "Mean cross-validation score: 0.81\n"
     ]
    }
   ],
   "source": [
    "from sklearn.model_selection import cross_val_score\n",
    "\n",
    "cross_val_scores = cross_val_score(knn_under, X_train_under, y_train_under, cv=5, scoring='recall')\n",
    "print(f\"Cross-validation scores: {cross_val_scores}\")\n",
    "print(f\"Mean cross-validation score: {cross_val_scores.mean():.2f}\")"
   ]
  }
 ],
 "metadata": {
  "kernelspec": {
   "display_name": "Python 3",
   "language": "python",
   "name": "python3"
  },
  "language_info": {
   "codemirror_mode": {
    "name": "ipython",
    "version": 3
   },
   "file_extension": ".py",
   "mimetype": "text/x-python",
   "name": "python",
   "nbconvert_exporter": "python",
   "pygments_lexer": "ipython3",
   "version": "3.13.2"
  }
 },
 "nbformat": 4,
 "nbformat_minor": 5
}
